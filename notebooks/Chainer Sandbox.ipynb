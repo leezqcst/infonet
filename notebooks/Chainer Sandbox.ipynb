{
 "cells": [
  {
   "cell_type": "markdown",
   "metadata": {},
   "source": [
    "# NOTE: This notebook was for dev purposes only.  Not guaranteed to run anymore (and run order is somewhat nonlinear). All relevant code as been moved to the infonet package or in an experiment"
   ]
  },
  {
   "cell_type": "code",
   "execution_count": 1,
   "metadata": {
    "collapsed": true
   },
   "outputs": [],
   "source": [
    "import numpy as np\n",
    "import numpy.random as npr\n",
    "import json\n",
    "import io\n",
    "import time\n",
    "import os.path\n",
    "import six\n",
    "import copy\n",
    "\n",
    "import matplotlib.pyplot as plt\n",
    "%matplotlib inline\n",
    "import seaborn as sb\n",
    "sb.set_color_codes()\n",
    "plt.rcParams['figure.figsize'] = (6,4)\n",
    "\n",
    "import chainer as ch\n",
    "import chainer.training.extensions # for some reason this isn't automatically imported"
   ]
  },
  {
   "cell_type": "code",
   "execution_count": 2,
   "metadata": {
    "collapsed": true
   },
   "outputs": [],
   "source": [
    "data = json.loads(io.open('../data/ace_05_head_yaat.json', 'r').read())"
   ]
  },
  {
   "cell_type": "code",
   "execution_count": 3,
   "metadata": {
    "collapsed": true
   },
   "outputs": [],
   "source": [
    "from collections import Counter\n",
    "import numpy as np\n",
    "import numpy.random as npr\n",
    "\n",
    "class Vocab():\n",
    "    \"\"\" A convenience vocabulary wrapper \n",
    "    \n",
    "    TODO: Add in sampling table functionality\n",
    "    \"\"\"\n",
    "    def __init__(self, \n",
    "                 tokens=None, \n",
    "                 min_count=5,\n",
    "                 pad_token='<PAD>', \n",
    "                 unk_token='<UNK>'):\n",
    "        self.min_count=min_count\n",
    "        self.pad_token = pad_token\n",
    "        self.unk_token = unk_token\n",
    "        \n",
    "        self.use(tokens)\n",
    "#         self.make_sampling_table()\n",
    "\n",
    "    @property\n",
    "    def n(self):\n",
    "        \"\"\" The total number of tokens seen by the vocabulary.\n",
    "        \n",
    "        This **does not** include tokens which have not been seen `min_count` times\n",
    "        \"\"\"\n",
    "        return self._n\n",
    "\n",
    "    @property\n",
    "    def v(self):\n",
    "        \"\"\" The total number of unique tokens in the vocabulary.\n",
    "        \n",
    "        This **does not** include tokens which have not been seen `min_count` times\n",
    "        \"\"\"\n",
    "        return self._v\n",
    "\n",
    "    @property\n",
    "    def pad(self):\n",
    "        \"\"\" Return the PAD token \"\"\"\n",
    "        return self.pad_token\n",
    "\n",
    "    @property\n",
    "    def ipad(self):\n",
    "        \"\"\" Return the index of the PAD token \"\"\"\n",
    "        return self.idx(self.pad_token)\n",
    "    \n",
    "    @property\n",
    "    def unk(self):\n",
    "        \"\"\" Return the UNK token \"\"\"\n",
    "        return self.unk_token\n",
    "\n",
    "    @property\n",
    "    def iunk(self):\n",
    "        \"\"\" Return the index of the UNK token \"\"\"\n",
    "        return self.idx(self.unk_token)\n",
    "\n",
    "    def idx(self, token):\n",
    "        \"\"\" Return the index of a token or the index of UNK if not in vocab.\n",
    "        \n",
    "        Additionally this will return UNK if the token is in the vocab \n",
    "        but has yet to be seen `min_count` times\n",
    "        \"\"\"\n",
    "        if token == self.pad_token:\n",
    "            return self._vocab2idx[token]\n",
    "        elif token in self.vocabset:\n",
    "            if self.count_index[token] >= self.min_count:\n",
    "                return self._vocab2idx[token]\n",
    "            else:\n",
    "                return self._vocab2idx[self.unk_token]\n",
    "        else:\n",
    "            return self._vocab2idx[self.unk_token]\n",
    "\n",
    "    def token(self, idx):\n",
    "        \"\"\" Return the token corresponding to the input index `idx`.\n",
    "        \n",
    "        If the index is not in the vocabulary, or it is the index\n",
    "        of a token that has not been seen `min_count` times,\n",
    "        the UNK token is returned instead\n",
    "        \"\"\"\n",
    "        if idx in self.idxset:\n",
    "            token = self._idx2vocab[idx]\n",
    "            if self.count_index[token] >= self.min_count:\n",
    "                return token\n",
    "            else:\n",
    "                return self.unk_token\n",
    "        else:\n",
    "            return self.unk_token\n",
    "\n",
    "    def use(self, tokens):\n",
    "        \"\"\" Create the vocabulary, using these tokens.\n",
    "        \n",
    "        This method will reset the vocab with these tokens.\n",
    "        \n",
    "        `tokens` is expected to be a flat list.\n",
    "        \"\"\"\n",
    "        self.count_index = Counter()\n",
    "        self._vocab2idx = {self.pad_token:0,\n",
    "                           self.unk_token:1}\n",
    "        self._idx2vocab = {0:self.pad_token,\n",
    "                           1:self.unk_token}\n",
    "        if tokens:\n",
    "            self.add(tokens)\n",
    "\n",
    "    def add(self, tokens):\n",
    "        \"\"\" Add these tokens to the vocabulary.\n",
    "        \n",
    "        This can be used iteratively, adding, say, one sentence at a time.\n",
    "        \n",
    "        NOTE: Expects `tokens` to be a flat list.\n",
    "        \"\"\"\n",
    "        # increment counts of tokens seen here\n",
    "        for token in tokens:\n",
    "            self.count_index[token] += 1\n",
    "        \n",
    "        # add tokens to the vocabulary if they are new\n",
    "        token_set = set(tokens)\n",
    "        for token in token_set:\n",
    "            if token not in self._vocab2idx:\n",
    "                new_idx = len(self._vocab2idx)\n",
    "                self._vocab2idx[token] = new_idx\n",
    "                self._idx2vocab[new_idx] = token\n",
    "        \n",
    "        # now precompute commonly used properties of the vocab (ignoring infrequent tokens)\n",
    "        self.vocabset = set([ token for (token, count) in self.count_index.most_common()\n",
    "                              if count >= self.min_count ]) \n",
    "        self.vocabset |= set([self.pad_token, self.unk_token])\n",
    "        self.idxset = set([ self._vocab2idx[token] for token in self.vocabset ])\n",
    "        self._n = sum( count for count in self.count_index.values() if count >= self.min_count )\n",
    "        self._v = sum( 1 for count in self.count_index.values() if count >= self.min_count ) + 2 # <PAD> and <UNK>\n",
    "        \n",
    "    def drop_infrequent(self):\n",
    "        \"\"\" Drop all words from the vocabulary that have not been seen `min_count` times\n",
    "        and recompute the vocabulary indices.\n",
    "        \n",
    "        This is useful for when the vocab has a long tail of infrequent words\n",
    "        that we no longer wish to account for.\n",
    "        \n",
    "        NOTE: This changes indices of tokens in the vocab!\n",
    "        \"\"\"\n",
    "        # remove all infrequent tokens from the count index\n",
    "        to_remove = set(self.count_index.keys()) - self.vocabset\n",
    "        for token in to_remove:\n",
    "            self.count_index.pop(token)\n",
    "            \n",
    "        # now reset the vocab dicts and reindex the tokens\n",
    "        self._vocab2idx = {self.pad_token:0,\n",
    "                           self.unk_token:1}\n",
    "        self._idx2vocab = {0:self.pad_token,\n",
    "                           1:self.unk_token}\n",
    "        for token in self.count_index.keys():\n",
    "            new_idx = len(self._vocab2idx)\n",
    "            self._vocab2idx[token] = new_idx\n",
    "            self._idx2vocab[new_idx] = token\n",
    "            \n",
    "        # precompute commonly used properties of the vocab\n",
    "        self.vocabset = set(self._vocab2idx.keys())\n",
    "        self.idxset = set(self._idx2vocab.keys())\n",
    "        self._n = sum( count for count in self.count_index.values() )\n",
    "        self._v = len(self._vocab2idx)\n",
    "\n",
    "    def count(self, token):\n",
    "        \"\"\" Get the count of a token.  \n",
    "        \n",
    "        This includes tokens with countes below `min_count`,\n",
    "        which have been seen but are not included in the vocab.\n",
    "        \"\"\"\n",
    "        return self.count_index[token]\n",
    "\n",
    "#     def make_sampling_table(self, power_scalar=.75):\n",
    "#         # from 0 to V-1, get the frequency\n",
    "#         self.vocab_distribution = np.array([ (self.count_index[self._idx2vocab[idx]]/float(self._n))**power_scalar\n",
    "#                                     for idx in range(len(self.idxset))])\n",
    "#         self.vocab_distribution /= np.sum(self.vocab_distribution).astype(np.float)\n",
    "\n",
    "#     def sample(self, sample_shape):\n",
    "#         # sample a tensor of indices\n",
    "#         # by walking up the CDF\n",
    "#         # setting each position to the index\n",
    "#         # of the word which is the closest\n",
    "#         # word with that CDF\n",
    "#         sums = np.zeros(sample_shape)\n",
    "#         rands = npr.uniform(size=sample_shape)\n",
    "#         idxs = np.zeros(sample_shape)\n",
    "#         for i in range(len(self.vocab_distribution)):\n",
    "#             sums += self.vocab_distribution[i]\n",
    "#             idxs[sums <= rands] = i\n",
    "#         return idxs.astype(np.int)"
   ]
  },
  {
   "cell_type": "code",
   "execution_count": 4,
   "metadata": {
    "collapsed": true
   },
   "outputs": [],
   "source": [
    "def Entity_BIO_map(mention_labels, annotation):\n",
    "    \"\"\" Uses BIO scheme (untyped) for entities only \"\"\"\n",
    "    if annotation['node-type'] == 'entity':\n",
    "        left, right = tuple(annotation['ann-span'])\n",
    "        mention_labels[left] = 'B'\n",
    "        for i in range(1, right-left+1):\n",
    "            mention_labels[left+i] = 'I'\n",
    "    return mention_labels\n",
    "\n",
    "def Entity_typed_BIO_map(mention_labels, annotation):\n",
    "    \"\"\" Uses BIO scheme (typed) for entities only \"\"\"\n",
    "    if annotation['node-type'] == 'entity':\n",
    "        mention_type = annotation['type']\n",
    "        left, right = tuple(annotation['ann-span'])\n",
    "        mention_labels[left] = 'B-'+mention_type\n",
    "        for i in range(1, right-left+1):\n",
    "            mention_labels[left+i] = 'I-'+mention_type\n",
    "    return mention_labels\n",
    "\n",
    "def Entity_BILOU_map(mention_labels, annotation):\n",
    "    \"\"\" Uses BILOU scheme (untyped) for entities only \"\"\"\n",
    "    if annotation['node-type'] == 'entity':\n",
    "        left, right = tuple(annotation['ann-span'])\n",
    "        if left == right:\n",
    "            mention_labels[left] = 'U'\n",
    "        else:\n",
    "            mention_labels[left] = 'B'\n",
    "            for i in range(1, right-left):\n",
    "                mention_labels[left+i] = 'I'\n",
    "            mention_labels[right] = 'L'\n",
    "    return mention_labels\n",
    "\n",
    "def Entity_typed_BILOU_map(mention_labels, annotation):\n",
    "    \"\"\" Uses BILOU scheme (typed) for entities only \"\"\"\n",
    "    if annotation['node-type'] == 'entity':\n",
    "        mention_type = annotation['type']\n",
    "        left, right = tuple(annotation['ann-span'])\n",
    "        if left == right:\n",
    "            mention_labels[left] = 'U-'+mention_type\n",
    "        else:\n",
    "            mention_labels[left] = 'B-'+mention_type\n",
    "            for i in range(1, right-left):\n",
    "                mention_labels[left+i] = 'I-'+mention_type\n",
    "            mention_labels[right] = 'L-'+mention_type\n",
    "    return mention_labels\n",
    "\n",
    "def compute_flat_mention_labels(doc, scheme_func=Entity_BIO_map):\n",
    "    \"\"\" Takes a YAAT style document and computes token-level mention label list.\n",
    "    \n",
    "    This function only considers the outermost spans (as per ACE evaluation)\n",
    "    by editing the mentions of shortest span-length to longest.\n",
    "    Thus wider mentions will override narrower nested mentions.\n",
    "    \n",
    "    Example:\n",
    "    --------\n",
    "    \n",
    "    tokens: ['part', 'of' , 'mention', '.', 'not', 'part']\n",
    "    with annotation: {'ann-type':'node',\n",
    "                      'node-type':'entity',\n",
    "                      'ann-span':[0,2]}\n",
    "    with scheme: BIO\n",
    "    \n",
    "    yields:\n",
    "    mention_labels = ['B', 'I', 'I', 'O', 'O', 'O']\n",
    "    \"\"\"\n",
    "    mention_labels = ['O' for token in doc['tokens']]\n",
    "    mentions = [ annotation for annotation in doc['annotations'] if annotation['ann-type'] == 'node' ]\n",
    "    for annotation in sorted(mentions, key=lambda x:x['ann-span'][1]-x['ann-span'][0]):\n",
    "        mention_labels = scheme_func(mention_labels, annotation)\n",
    "    return mention_labels"
   ]
  },
  {
   "cell_type": "code",
   "execution_count": 5,
   "metadata": {
    "collapsed": false
   },
   "outputs": [
    {
     "name": "stdout",
     "output_type": "stream",
     "text": [
      "324491 total tokens and 4826 types with mincount > 5\n"
     ]
    }
   ],
   "source": [
    "token_vocab = Vocab(min_count=5)\n",
    "for doc in data.values():\n",
    "    token_vocab.add(doc['tokens'])\n",
    "print '{} total tokens and {} types with mincount > 5'.format(token_vocab.n, token_vocab.v)"
   ]
  },
  {
   "cell_type": "code",
   "execution_count": 6,
   "metadata": {
    "collapsed": false
   },
   "outputs": [
    {
     "name": "stdout",
     "output_type": "stream",
     "text": [
      "of O\n",
      "al B\n",
      "qaeda I\n",
      ". O\n",
      "they O\n",
      "may O\n",
      "have O\n",
      "been O\n",
      "timed O\n",
      "to O\n"
     ]
    }
   ],
   "source": [
    "doc['boundary_labels'] = compute_flat_mention_labels(doc, Entity_BIO_map)\n",
    "for token, label in zip(doc['tokens'], doc['boundary_labels'])[100:110]:\n",
    "    print token, label"
   ]
  },
  {
   "cell_type": "code",
   "execution_count": 7,
   "metadata": {
    "collapsed": true
   },
   "outputs": [],
   "source": [
    "boundary_vocab = Vocab(min_count=0)\n",
    "for doc in data.values():\n",
    "    doc['boundary_labels'] = compute_flat_mention_labels(doc, Entity_BIO_map)\n",
    "    boundary_vocab.add(doc['boundary_labels'])"
   ]
  },
  {
   "cell_type": "code",
   "execution_count": 8,
   "metadata": {
    "collapsed": false
   },
   "outputs": [
    {
     "name": "stdout",
     "output_type": "stream",
     "text": [
      "321 train, 53 validation, and 161 test documents\n"
     ]
    }
   ],
   "source": [
    "xy = [(doc['tokens'], doc['boundary_labels']) for doc in data.values()]\n",
    "npr.shuffle(xy)\n",
    "\n",
    "valid_split = int(len(xy)*.6)\n",
    "test_split = int(len(xy)*.8)\n",
    "xy_train, xy_valid, xy_test = xy[:valid_split], xy[valid_split:test_split], xy[test_split:]\n",
    "\n",
    "x_train = [d[0] for d in xy_train]\n",
    "y_train = [d[1] for d in xy_train]\n",
    "x_valid = [d[0] for d in xy_valid]\n",
    "y_valid = [d[1] for d in xy_valid]\n",
    "x_test = [d[0] for d in xy_test]\n",
    "y_test = [d[1] for d in xy_test]\n",
    "\n",
    "print '{} train, {} validation, and {} test documents'.format(len(x_train), len(x_valid), len(x_test))"
   ]
  },
  {
   "cell_type": "code",
   "execution_count": 9,
   "metadata": {
    "collapsed": false
   },
   "outputs": [],
   "source": [
    "# # create an additional training set that is split on sentences\n",
    "# def split_sentences(doc_x, doc_y):\n",
    "#     xs, ys = [], []\n",
    "#     sent_x, sent_y = [], []\n",
    "#     for x, y in zip(doc_x, doc_y):\n",
    "#         if x == '.':\n",
    "#             sent_x.append(x)\n",
    "#             sent_y.append(y)\n",
    "#             xs.append(sent_x)\n",
    "#             ys.append(sent_y)\n",
    "#             sent_x = []\n",
    "#             sent_y = []\n",
    "#         else:\n",
    "#             sent_x.append(x)\n",
    "#             sent_y.append(y)\n",
    "#     return xs, ys\n",
    "\n",
    "# def split_all_docs(xs, ys):\n",
    "#     all_xs, all_ys = [], []\n",
    "#     for x,y in zip(xs, ys):\n",
    "#         sent_xs, sent_ys = split_sentences(x, y)\n",
    "#         all_xs.extend(sent_xs)\n",
    "#         all_ys.extend(sent_ys)\n",
    "#     return all_xs, all_ys\n",
    "\n",
    "# x_sent_train, y_sent_train = split_all_docs(x_train, y_train)\n",
    "# x_sent_test, y_sent_test = split_all_docs(x_test, y_test)"
   ]
  },
  {
   "cell_type": "code",
   "execution_count": 10,
   "metadata": {
    "collapsed": true
   },
   "outputs": [],
   "source": [
    "# before we do conversions, we need to drop unfrequent words from the vocab and reindex it\n",
    "token_vocab.drop_infrequent()\n",
    "boundary_vocab.drop_infrequent()"
   ]
  },
  {
   "cell_type": "code",
   "execution_count": 11,
   "metadata": {
    "collapsed": false
   },
   "outputs": [],
   "source": [
    "def convert_sequence(sequence, conversion_func):\n",
    "    return [ conversion_func(s) for s in sequence ]\n",
    "\n",
    "def convert_sequences(sequences, conversion_func):\n",
    "    return [ convert_sequence(sequence, conversion_func) for sequence in sequences ]\n",
    "\n",
    "ix_train = convert_sequences(x_train, token_vocab.idx)\n",
    "ix_valid = convert_sequences(x_valid, token_vocab.idx)\n",
    "ix_test = convert_sequences(x_test, token_vocab.idx)\n",
    "iy_train = convert_sequences(y_train, boundary_vocab.idx)\n",
    "iy_valid = convert_sequences(y_valid, boundary_vocab.idx)\n",
    "iy_test = convert_sequences(y_test, boundary_vocab.idx)"
   ]
  },
  {
   "cell_type": "markdown",
   "metadata": {},
   "source": [
    "### A bucketed iterator for the variable length sequence data"
   ]
  },
  {
   "cell_type": "code",
   "execution_count": 12,
   "metadata": {
    "collapsed": false
   },
   "outputs": [],
   "source": [
    "class BucketedIterator(ch.dataset.iterator.Iterator):\n",
    "    def _anchored_permutation(self, order):\n",
    "        \"\"\" Randomized permutation except last element is alway the largest.\n",
    "        \n",
    "        Used for bucketed rnn batches where the last batch may \n",
    "        (and if so must) be smaller than the rest.\n",
    "        \"\"\"\n",
    "        order = npr.permutation(order)\n",
    "#         m = np.max(order)\n",
    "#         order[order==m] = order[-1]\n",
    "#         order[-1] = m\n",
    "        return order\n",
    "        \n",
    "    def __init__(self, dataset, batch_size, repeat=True, shuffle=True):\n",
    "        self.dataset = dataset\n",
    "        self.n = n = len(self.dataset)\n",
    "        self.batch_size = batch_size\n",
    "        self._repeat = repeat\n",
    "\n",
    "        # first decide if dataset is one set of sequences or a zipped set of seequences\n",
    "        if type(self.dataset[0][0]) not in (tuple, list, dict):\n",
    "            # one dataset\n",
    "            self.dataset.sort(key=lambda x:len(x), reverse=True)\n",
    "        else:\n",
    "            # zipped or dict dataset\n",
    "            self.dataset.sort(key=lambda x:len(x[0]), reverse=True)\n",
    "        # then sort them by length of leading (or only) sequence so they are length bucketed\n",
    "        # and sorted by length within minibatches (needed for chainer RNNs)\n",
    "        self.n_batches = n//batch_size if (n % batch_size == 0) else n//batch_size + 1\n",
    "        self.minibatches = [ tuple(self.dataset[i*batch_size:(i+1)*batch_size])\n",
    "                              for i in range(self.n_batches) ]\n",
    "\n",
    "        if shuffle:\n",
    "            self._order = self._anchored_permutation(len(self.minibatches))\n",
    "        else:\n",
    "            self._order = None\n",
    "\n",
    "        self.current_position = 0\n",
    "        self.epoch = 0\n",
    "        self.is_new_epoch = False\n",
    "\n",
    "    def __next__(self):\n",
    "        if not self._repeat and self.epoch > 0:\n",
    "            raise StopIteration\n",
    "\n",
    "        if self._order is not None:\n",
    "            i = self._order[self.current_position]\n",
    "        else:\n",
    "            i = self.current_position\n",
    "        minibatch = self.minibatches[i]\n",
    "        \n",
    "        # last minibatch in epoch\n",
    "        if self.current_position == self.n_batches-1:\n",
    "            self.epoch += 1\n",
    "            self.is_new_epoch = True\n",
    "            self.current_position = 0\n",
    "            if self._order is not None:\n",
    "                self._order = self._anchored_permutation(self._order)\n",
    "        else:\n",
    "            self.is_new_epoch = False\n",
    "            self.current_position += 1\n",
    "        return minibatch\n",
    "    \n",
    "    @property\n",
    "    def epoch_detail(self):\n",
    "        return self.epoch + self.current_position / len(self.dataset)\n",
    "\n",
    "    def serialize(self, serializer):\n",
    "        self.current_position = serializer('current_position',\n",
    "                                           self.current_position)\n",
    "        self.epoch = serializer('epoch', self.epoch)\n",
    "        self.is_new_epoch = serializer('is_new_epoch', self.is_new_epoch)\n",
    "        if self._order is not None:\n",
    "            serializer('_order', self._order)\n",
    "            \n",
    "class SequenceIterator(ch.dataset.iterator.Iterator):\n",
    "    def __init__(self, dataset, batch_size, repeat=True, shuffle=True):\n",
    "        self.dataset = dataset\n",
    "        self.n = n = len(self.dataset)\n",
    "        self.batch_size = batch_size\n",
    "        self._repeat = repeat\n",
    "        self.shuffle = shuffle\n",
    "        self.n_batches = n//batch_size if (n % batch_size == 0) else n//batch_size + 1\n",
    "\n",
    "        if shuffle:\n",
    "            npr.shuffle(self.dataset)\n",
    "\n",
    "        self.current_position = 0\n",
    "        self.epoch = 0\n",
    "        self.is_new_epoch = False\n",
    "\n",
    "    def __next__(self):\n",
    "        if not self._repeat and self.epoch > 0:\n",
    "            raise StopIteration\n",
    "\n",
    "        i = self.current_position\n",
    "        minibatch = self.dataset[i*self.batch_size:(i+1)*self.batch_size]\n",
    "        # minibatches must be sorted by descending sequence len\n",
    "        # sort key changes if dataset is one set of sequences or a zipped set of seequences\n",
    "        if type(self.dataset[0][0]) not in (tuple, list, dict):\n",
    "            # one dataset\n",
    "            minibatch.sort(key=lambda x:len(x), reverse=True)\n",
    "        else:\n",
    "            # zipped or dict dataset\n",
    "            minibatch.sort(key=lambda x:len(x[0]), reverse=True)\n",
    "        \n",
    "        # last minibatch in epoch\n",
    "        if self.current_position == self.n_batches-1:\n",
    "            self.epoch += 1\n",
    "            self.is_new_epoch = True\n",
    "            self.current_position = 0\n",
    "            if self.shuffle:\n",
    "                npr.shuffle(self.dataset)\n",
    "        else:\n",
    "            self.is_new_epoch = False\n",
    "            self.current_position += 1\n",
    "\n",
    "        return minibatch\n",
    "    \n",
    "    @property\n",
    "    def epoch_detail(self):\n",
    "        return self.epoch + self.current_position / len(self.dataset)\n",
    "\n",
    "    def serialize(self, serializer):\n",
    "        self.current_position = serializer('current_position',\n",
    "                                           self.current_position)\n",
    "        self.epoch = serializer('epoch', self.epoch)\n",
    "        self.is_new_epoch = serializer('is_new_epoch', self.is_new_epoch)\n",
    "        if self._order is not None:\n",
    "            serializer('_order', self._order)"
   ]
  },
  {
   "cell_type": "code",
   "execution_count": 353,
   "metadata": {
    "collapsed": false
   },
   "outputs": [
    {
     "name": "stdout",
     "output_type": "stream",
     "text": [
      "\n"
     ]
    }
   ],
   "source": [
    "class Tagger(ch.Chain):\n",
    "    def __init__(self, embed, lstm_size, out_size):\n",
    "        super(Tagger, self).__init__(\n",
    "            embed = embed,\n",
    "            lstm = ch.links.LSTM(embed.W.shape[1], lstm_size),\n",
    "            out = ch.links.Linear(lstm_size, out_size)\n",
    "        )\n",
    "    \n",
    "    def reset_state(self):\n",
    "        self.lstm.reset_state()\n",
    "    \n",
    "    def __call__(self, x_list):\n",
    "        embeds = [ self.embed(x) for x in x_list ]\n",
    "        lstms = [ self.lstm(x) for x in embeds ]\n",
    "        outs = [ self.out(h) for h in lstms ]\n",
    "        return outs, lstms\n",
    "    \n",
    "class TaggerLoss(ch.Chain):\n",
    "    def __init__(self, tagger, \n",
    "                 loss_func=ch.functions.softmax_cross_entropy):\n",
    "        super(TaggerLoss, self).__init__(\n",
    "            tagger = tagger\n",
    "        )\n",
    "        self.loss_func = loss_func\n",
    "        \n",
    "    def __call__(self, x_list, y_list):\n",
    "        loss = 0\n",
    "        yhat_list,_ = self.tagger(x_list)\n",
    "        for yhat, y in zip(yhat_list, y_list):\n",
    "            loss += self.loss_func(yhat, y)\n",
    "        return loss\n",
    "    \n",
    "class Extractor(ch.Chain):\n",
    "    def __init__(self, \n",
    "                 feature_size,\n",
    "                 n_mention_class,\n",
    "                 n_relation_class,\n",
    "                 in_tags=(1,2), \n",
    "                 out_tags=(0,),\n",
    "                 max_rel_dist=10000):\n",
    "        super(Extractor, self).__init__(\n",
    "            f_m=ch.links.Linear(feature_size, n_mention_class),\n",
    "            f_r=ch.links.Linear(2*feature_size, n_relation_class)\n",
    "        )\n",
    "#         self.f_m.W.data = npr.randint((feature_size, n_mention_class))\n",
    "        self.in_tags = in_tags\n",
    "        self.out_tags = out_tags\n",
    "        self.max_rel_dist = max_rel_dist\n",
    "        \n",
    "    def _extract_graph(self, tagger_preds, tagger_features):\n",
    "        # convert from time-major to batch-major\n",
    "        tagger_preds = ch.functions.transpose_sequence(tagger_preds)\n",
    "        tagger_features = ch.functions.transpose_sequence(tagger_features)\n",
    "#         print len(tagger_preds)\n",
    "        \n",
    "        # extract the mentions and relations for each doc\n",
    "        all_boundaries = extract_all_mentions(tagger_preds, \n",
    "                                              in_tags=self.in_tags, \n",
    "                                              out_tags=self.out_tags)\n",
    "#         print 'N', [len(b) for b in all_boundaries]\n",
    "        all_mentions = []\n",
    "        all_relation_idxs = []\n",
    "        all_left_mentions = []\n",
    "        all_right_mentions = []\n",
    "        for s, (boundaries, seq, features) in enumerate(zip(all_boundaries, tagger_preds, tagger_features)):\n",
    "            mentions = []\n",
    "            relation_idxs = []\n",
    "            left_mentions = []\n",
    "            right_mentions = []\n",
    "            for i, b in enumerate(boundaries):\n",
    "                mention = ch.functions.sum(features[b[0]:b[1]], axis=0)\n",
    "                mentions.append(mention)\n",
    "                # make a relation of to all previous mentions (M choose 2)\n",
    "                for j in range(i):\n",
    "                    if abs(boundaries[j][0] - b[0]) < self.max_rel_dist:\n",
    "                        print '\\rDoc: {} R({},{})'.format(s, j, i),\n",
    "                        relation_idxs.append([j,i])\n",
    "                        left_mentions.append(mentions[j])\n",
    "                        right_mentions.append(mentions[i])\n",
    "            print 'Stacking...',\n",
    "            if mentions:\n",
    "                mentions = ch.functions.vstack(mentions)\n",
    "                print 'm=',mentions.shape,\n",
    "            all_mentions.append(mentions)\n",
    "            if left_mentions:\n",
    "                left_mentions = ch.functions.vstack(left_mentions)\n",
    "                print 'l=',left_mentions.shape,\n",
    "            all_left_mentions.append(left_mentions)\n",
    "            if right_mentions:\n",
    "                right_mentions = ch.functions.vstack(right_mentions)\n",
    "                print 'r=',right_mentions.shape,\n",
    "            all_right_mentions.append(right_mentions)\n",
    "            all_relation_idxs.append(relation_idxs)\n",
    "            print 'Done'\n",
    "        return all_mentions, all_left_mentions, all_right_mentions, all_relation_idxs\n",
    "    \n",
    "    def __call__(self, tagger_logits, tagger_features):\n",
    "        tagger_preds = [ ch.functions.argmax(logit, axis=1) for logit in tagger_logits ]\n",
    "        start = time.time()\n",
    "        mentions, l_mentions, r_mentions, rel_idxs = self._extract_graph(    \n",
    "            tagger_preds, \n",
    "            tagger_features)\n",
    "        # concat left and right mentions into one relation vector\n",
    "        relations = [ ch.functions.concat(m, axis=1) if type(m[0]) is ch.Variable else m[0]\n",
    "                             for m in zip(l_mentions, r_mentions) ]\n",
    "        # score mentions and relations\n",
    "#         print mentions[0].shape\n",
    "        m_logits = [ self.f_m(m) if type(m) is ch.Variable else []\n",
    "                     for m in mentions ]\n",
    "        r_logits = [ self.f_r(r) if type(r) is ch.Variable else []\n",
    "                     for r in relations ]\n",
    "        return m_logits, r_logits, rel_idxs"
   ]
  },
  {
   "cell_type": "code",
   "execution_count": 354,
   "metadata": {
    "collapsed": false
   },
   "outputs": [],
   "source": [
    "def extract_mentions(seq, \n",
    "                     in_tags=('B', 'I', 'L', 'U'), \n",
    "                     out_tags=('O'), \n",
    "                     typemap=False):\n",
    "    \"\"\" We extract mentions approximately according to the BIO or BILOU schemes\n",
    "    with some relaxations.\n",
    "    \n",
    "    We start mentions when we see anything but an 'O'. \n",
    "    We end them when we see an 'O'.\n",
    "    \n",
    "    When computing the type of the mention\n",
    "    we simply take the mode of the types of it's constituent tokens.\n",
    "    \"\"\"\n",
    "    if type(seq[0]) == ch.Variable:\n",
    "        seq = [ s.data for s in seq ]\n",
    "        \n",
    "    mentions = []\n",
    "    in_mention = False\n",
    "    mention_start = mention_end = 0\n",
    "    for i, s in enumerate(seq):\n",
    "        if not in_mention and s in in_tags:\n",
    "            mention_start = i\n",
    "            in_mention = True\n",
    "        elif in_mention and s in out_tags:\n",
    "            if typemap:\n",
    "                mention_type = mode([ typemap[s] for s in seq[mention_start:i] ])\n",
    "            else:\n",
    "                mention_type = None\n",
    "            mentions.append((mention_start, i, mention_type))\n",
    "            in_mention=False\n",
    "    if in_mention: # we end on a mention\n",
    "        if typemap:\n",
    "            mention_type = mode([ typemap[s] for s in seq[mention_start:i] ])\n",
    "        else:\n",
    "            mention_type = None\n",
    "        mentions.append((mention_start, i+1, mention_type))\n",
    "    return mentions\n",
    "    \n",
    "def extract_all_mentions(seqs, **kwds):\n",
    "    return [extract_mentions(seq, **kwds) for seq in seqs]\n"
   ]
  },
  {
   "cell_type": "code",
   "execution_count": 212,
   "metadata": {
    "collapsed": false
   },
   "outputs": [],
   "source": [
    "# x = ch.Variable(np.array([2,0,1]))\n",
    "# reorder = np.argsort(x.data)\n",
    "# print reorder\n",
    "# x.data = x.data[reorder]\n",
    "# print x.data\n",
    "# x = x[:1]\n",
    "# print x.data"
   ]
  },
  {
   "cell_type": "markdown",
   "metadata": {},
   "source": [
    "# Training Manually"
   ]
  },
  {
   "cell_type": "code",
   "execution_count": 355,
   "metadata": {
    "collapsed": false
   },
   "outputs": [],
   "source": [
    "def print_batch_loss(loss, epoch_i, batch_i, n_batches):\n",
    "    batch_percent = float(batch_i)/n_batches\n",
    "    progress = \"Epoch {0} : [{1}{2}] {3:2.2f}%, Loss = {4:2.6f}\".format(epoch_i,\n",
    "                                                           int(np.floor(batch_percent*10))*'=',\n",
    "                                                           int(np.ceil((1-batch_percent)*10))*'-',\n",
    "                                                           batch_percent*100,\n",
    "                                                           float(loss))\n",
    "    print '\\r',progress,\n",
    "\n",
    "def print_epoch_loss(epoch_i, avg_loss, valid_loss, time):\n",
    "    print '\\rEpoch {0} : Avg Loss = {1:2.4f}, Validation Loss = {2:2.4f}, {3} sec'.format(\n",
    "        epoch_i, float(avg_loss), float(valid_loss), np.ceil(int(time)))"
   ]
  },
  {
   "cell_type": "code",
   "execution_count": 356,
   "metadata": {
    "collapsed": false
   },
   "outputs": [
    {
     "data": {
      "text/plain": [
       "{0: '<PAD>', 1: '<UNK>', 2: 'I', 3: 'B', 4: 'O'}"
      ]
     },
     "execution_count": 356,
     "metadata": {},
     "output_type": "execute_result"
    }
   ],
   "source": [
    "boundary_vocab._idx2vocab"
   ]
  },
  {
   "cell_type": "code",
   "execution_count": null,
   "metadata": {
    "collapsed": true
   },
   "outputs": [],
   "source": [
    "def sequence_converter(x_list):\n",
    "    return [ np.array(x, dtype=np.int32) for x in x_list ]"
   ]
  },
  {
   "cell_type": "code",
   "execution_count": null,
   "metadata": {
    "collapsed": false,
    "scrolled": true
   },
   "outputs": [],
   "source": [
    "# data\n",
    "print \"setting up...\",\n",
    "train_iter = SequenceIterator(zip(ix_train, iy_train), 256, repeat=True)\n",
    "valid_iter = SequenceIterator(zip(ix_valid, iy_valid), 256, repeat=True)\n",
    "\n",
    "# hyperparams\n",
    "embedding_size = 50\n",
    "learning_rate = .01\n",
    "\n",
    "# model\n",
    "# embed = ch.functions.EmbedID(token_vocab.v, embedding_size)\n",
    "# tagger = Tagger(embed, embedding_size, boundary_vocab.v)\n",
    "extractor = Extractor(embedding_size, 5, 6,\n",
    "                      in_tags=(2,3),\n",
    "                      out_tags=(0,4), \n",
    "                      max_rel_dist=100)\n",
    "# model_loss = TaggerLoss(tagger)\n",
    "optimizer = ch.optimizers.Adam(learning_rate)\n",
    "# optimizer.use_cleargrads()\n",
    "optimizer.setup(model_loss)\n",
    "print \"Done\"\n",
    "# training\n",
    "n_epoch = 50\n",
    "best_valid_loss = 1e50\n",
    "epoch_losses = [[]]\n",
    "valid_losses = []\n",
    "forward_times = [[]]\n",
    "backward_times = [[]]\n",
    "seq_lengths = [[]]\n",
    "fit_start = time.time()\n",
    "for batch in train_iter:\n",
    "    # prepare data and model\n",
    "    x_list, y_list = zip(*batch)\n",
    "    x_list = sequence_converter(x_list)\n",
    "    y_list = sequence_converter(y_list)\n",
    "    model_loss.cleargrads()\n",
    "    tagger.reset_state()\n",
    "    seq_lengths[-1].append(len(x_list))\n",
    "    # run model\n",
    "    start = time.time()\n",
    "    loss = model_loss(x_list, y_list)\n",
    "    forward_times[-1].append(time.time()-start)\n",
    "    loss_val = loss.data\n",
    "    \n",
    "\n",
    "#         print 'e', e\n",
    "#     print \"Loss: {}\".format(loss_val),\n",
    "#     print train_iter.current_position+1\n",
    "    print_batch_loss(loss_val, \n",
    "                     train_iter.epoch+1, \n",
    "                     train_iter.current_position, \n",
    "                     train_iter.n_batches)\n",
    "    epoch_losses[-1].append(loss_val)\n",
    "    # backprop\n",
    "    start = time.time()\n",
    "    loss.backward()\n",
    "    optimizer.update()\n",
    "    backward_times[-1].append(time.time()-start)\n",
    "    \n",
    "    # extractor model\n",
    "    if train_iter.epoch > 0:\n",
    "        logits, hs = tagger(x_list)\n",
    "        start = time.time()\n",
    "        e = extractor(logits, hs)\n",
    "        print '{} sec, {} nodes, {} edges'.format(time.time()-start, \n",
    "                                                  np.sum(a.shape[0] for a in e[0]),\n",
    "                                                  np.sum(a.shape[0] for a in e[1]))\n",
    "\n",
    "    if train_iter.is_new_epoch:\n",
    "        valid_loss = 0\n",
    "        for valid_batch in valid_iter:\n",
    "            x_list, y_list = zip(*valid_batch)\n",
    "            x_list = sequence_converter(x_list)\n",
    "            y_list = sequence_converter(y_list)\n",
    "            tagger.reset_state()\n",
    "            valid_loss += model_loss(x_list, y_list).data\n",
    "            if valid_iter.is_new_epoch:\n",
    "                break\n",
    "#         print \"Valid Loss: {}\".format(valid_loss)\n",
    "        print_epoch_loss(train_iter.epoch, \n",
    "                         np.mean(epoch_losses[-1]), \n",
    "                         valid_loss, \n",
    "                         time=np.sum(forward_times[-1]+backward_times[-1]))\n",
    "        valid_losses.append(valid_loss)\n",
    "        epoch_losses.append([])\n",
    "        seq_lengths.append([])\n",
    "        forward_times.append([])\n",
    "        backward_times.append([])\n",
    "        # save best\n",
    "        if valid_loss < best_valid_loss:\n",
    "            best_valid_loss = valid_loss\n",
    "            ch.serializers.save_npz('tagger.model', tagger)\n",
    "        if train_iter.epoch == n_epoch:\n",
    "            print \"Training finished. {} epochs in {} seconds\".format(n_epoch, time.time()-fit_start)\n",
    "            print 'Restoring best model...',\n",
    "            ch.serializers.load_npz('tagger.model', tagger)\n",
    "            print 'Done'\n",
    "            break"
   ]
  },
  {
   "cell_type": "code",
   "execution_count": 285,
   "metadata": {
    "collapsed": true
   },
   "outputs": [],
   "source": [
    "ch.serializers.load_npz('tagger.model', tagger)"
   ]
  },
  {
   "cell_type": "code",
   "execution_count": 78,
   "metadata": {
    "collapsed": false
   },
   "outputs": [
    {
     "data": {
      "text/plain": [
       "(<matplotlib.figure.Figure at 0x1224cc050>,\n",
       " <matplotlib.axes._subplots.AxesSubplot at 0x124de8150>)"
      ]
     },
     "execution_count": 78,
     "metadata": {},
     "output_type": "execute_result"
    },
    {
     "data": {
      "image/png": "[encoded data removed]",
      "text/plain": [
       "<matplotlib.figure.Figure at 0x1224cc050>"
      ]
     },
     "metadata": {},
     "output_type": "display_data"
    }
   ],
   "source": [
    "def plot_learning_curve(epoch_losses, valid_losses,\n",
    "                        logx=False, \n",
    "                        logy=False,\n",
    "                        title='Training Learning Curve',\n",
    "                        xlabel='Epoch',\n",
    "                        ylabel='Loss',\n",
    "                        figsize=(6,4),\n",
    "                        savename=None):\n",
    "    fig, ax = plt.subplots(1, figsize=figsize)\n",
    "    train_means = np.array([ np.mean(epoch_loss) for epoch_loss in epoch_losses ])\n",
    "    train_stds = np.array([ np.std(epoch_loss) for epoch_loss in epoch_losses ])\n",
    "    t = xrange(len(epoch_losses))\n",
    "    ax.plot(t, train_means, 'bo-', lw=2,label='Average Per Epoch Training Loss', markersize=1)\n",
    "    ax.fill_between(t, train_means+train_stds, train_means-train_stds, facecolor='b', alpha=0.15)\n",
    "    ax.plot(range(len(valid_losses)), valid_losses, 'go--', lw=2, label='Per Epoch Validation Loss', markersize=1)\n",
    "    ax.set_title(title)\n",
    "    ax.legend(loc='upper right')\n",
    "    ax.set_xlabel(xlabel)\n",
    "    ax.set_ylabel(ylabel)\n",
    "    if logx:\n",
    "        ax.set_xscale('log')\n",
    "    if logy:\n",
    "        ax.set_yscale('log')\n",
    "    if savename:\n",
    "        fig.savefig(savename)\n",
    "    return fig, ax\n",
    "\n",
    "plot_learning_curve(epoch_losses, valid_losses)"
   ]
  },
  {
   "cell_type": "code",
   "execution_count": 332,
   "metadata": {
    "collapsed": false
   },
   "outputs": [],
   "source": [
    "def predict(x_list, y_list, return_proba=False):\n",
    "    # make a single batch out of the data\n",
    "    x_iter = BucketedIterator(zip(x_list, y_list), len(x_list))\n",
    "    x_list, y_list = zip(*x_iter.next())\n",
    "        \n",
    "    # run the model\n",
    "    tagger.reset_state()\n",
    "    logits_list, _ = tagger(sequence_converter(x_list)) \n",
    "    logits_list = [ logits.data for logits in logits_list ]\n",
    "    \n",
    "    if return_proba:\n",
    "        probs = [ ch.functions.softmax(logit) for logit in logits_list ]\n",
    "        probs = [ prob.data for prob in ch.functions.transpose_sequence(probs) ]\n",
    "        return probs, x_list, y_list\n",
    "    else:\n",
    "        preds = [ ch.functions.argmax(logit, axis=1) for logit in logits_list ]\n",
    "        preds = [ pred.data for pred in ch.functions.transpose_sequence(preds) ]\n",
    "        return preds, x_list, y_list\n",
    "    \n",
    "def model_graph(x_list, out_fname):\n",
    "    x_iter = BucketedIterator(x_list, len(x_list))\n",
    "    x_list = x_iter.next()\n",
    "        \n",
    "    # run the model\n",
    "    tagger.reset_state()\n",
    "    logits_list = tagger(sequence_converter(x_list))\n",
    "    g = ch.computational_graph.build_computational_graph(logits_list)\n",
    "    with open(out_fname, 'w') as o:\n",
    "        o.write(g.dump())\n",
    "    print \"Done.  Render {}\".format(out_fname)"
   ]
  },
  {
   "cell_type": "code",
   "execution_count": 333,
   "metadata": {
    "collapsed": false,
    "scrolled": true
   },
   "outputs": [],
   "source": [
    "# print len(ix_test), len(ix_test[0])\n",
    "# print len(preds[0]), len(ys[0])\n",
    "# for a,b,c in zip(xs[-1], preds[-1], ys[-1]):\n",
    "#     print a,b,c"
   ]
  },
  {
   "cell_type": "code",
   "execution_count": 334,
   "metadata": {
    "collapsed": false
   },
   "outputs": [],
   "source": [
    "def mode(L):\n",
    "    \"\"\" Compute the mode of a list \"\"\"\n",
    "    types = {}\n",
    "    for e in L:\n",
    "        if e in types:\n",
    "            types[e] += 1\n",
    "        else:\n",
    "            types[e] = 1\n",
    "    return sorted(types.items(), reverse=True, key=lambda x:x[1])[0][0]\n",
    "\n",
    "def extract_mentions(seq, typed=True):\n",
    "    \"\"\" We extract mentions approximately according to the BIO or BILOU schemes\n",
    "    with some relaxations.\n",
    "    \n",
    "    We start mentions when we see anything but an 'O'. \n",
    "    We end them when we see an 'O'.\n",
    "    \n",
    "    When computing the type of the mention\n",
    "    we simply take the mode of the types of it's constituent tokens.\n",
    "    \"\"\"\n",
    "    mentions = []\n",
    "    in_mention = False\n",
    "    mention_start = mention_end = 0\n",
    "    for i, s in enumerate(seq):\n",
    "        if not in_mention and s.startswith(('B', 'I', 'L', 'U')):\n",
    "            mention_start = i\n",
    "            in_mention = True\n",
    "        elif in_mention and s == 'O':\n",
    "            if typed:\n",
    "                mention_type = mode([ s.split('-')[-1] for s in seq[mention_start:i] ])\n",
    "            else:\n",
    "                mention_type = 'E'\n",
    "            mentions.append((mention_start, i-1, mention_type))\n",
    "            in_mention=False\n",
    "    if in_mention: # we end on a mention\n",
    "        if typed:\n",
    "            mention_type = mode([ s.split('-')[-1] for s in seq[mention_start:i] ])\n",
    "        else:\n",
    "            mention_type = 'E'\n",
    "        mentions.append((mention_start, i, mention_type))\n",
    "    return mentions\n",
    "    \n",
    "def extract_all_mentions(seqs, typed=True):\n",
    "    return [extract_mentions(seq, typed=typed) for seq in seqs]\n",
    "\n",
    "def mention_precision_recall(true_mentions, pred_mentions):\n",
    "    \"\"\" This function returns the counts of true positives, false positives, and false negatives\n",
    "    which are necessary for calculating precision and recall.\n",
    "    A mention boundary is considered correct if both ends are correct. \n",
    "    \"\"\"\n",
    "    true_mentions = set(true_mentions)\n",
    "    pred_mentions = set(pred_mentions)\n",
    "    tp = len(true_mentions & pred_mentions)\n",
    "    fn = len(true_mentions - pred_mentions)\n",
    "    fp = len(pred_mentions - true_mentions)\n",
    "    return tp, fp, fn\n",
    "\n",
    "def mention_boundary_stats(true_ys, pred_ys, typed=True):\n",
    "    all_true_mentions = extract_all_mentions(true_ys, typed=typed)\n",
    "    all_pred_mentions = extract_all_mentions(pred_ys, typed=typed)\n",
    "    stats = {'tp':0,\n",
    "             'fp':0,\n",
    "             'fn':0}\n",
    "    for true_mentions, pred_mentions in zip(all_true_mentions, all_pred_mentions):\n",
    "        tp, fp, fn = mention_precision_recall(true_mentions, pred_mentions)\n",
    "        stats['tp'] += tp\n",
    "        stats['fp'] += fp\n",
    "        stats['fn'] += fn\n",
    "    stats['precision'] = tp / float(tp + fp +1e-15)\n",
    "    stats['recall'] = tp / float(tp + fn +1e-15)\n",
    "    stats['f1'] = 2*stats['precision']*stats['recall']/(stats['precision']+stats['recall']+1e-15)\n",
    "    return stats"
   ]
  },
  {
   "cell_type": "code",
   "execution_count": 336,
   "metadata": {
    "collapsed": false
   },
   "outputs": [
    {
     "name": "stdout",
     "output_type": "stream",
     "text": [
      "< B O\n",
      "DOC I O\n",
      "> B O\n",
      "< B O\n",
      "DOCID O O\n",
      "> O O\n",
      "<UNK> O O\n",
      "< B O\n",
      "/DOCID I O\n",
      "> B O\n",
      "< B O\n",
      "DOCTYPE B O\n",
      "SOURCE=\"broadcast <UNK> O\n",
      "news I O\n",
      "\" I O\n",
      "> B O\n",
      "NEWS <UNK> O\n",
      "STORY <UNK> O\n",
      "< B O\n",
      "/DOCTYPE B O\n",
      "> B O\n",
      "< B O\n",
      "DATETIME B O\n",
      "> B O\n",
      "2003 B O\n",
      "- <UNK> O\n",
      "04 I O\n",
      "- <UNK> O\n",
      "09 <UNK> O\n",
      "<UNK> O O\n",
      "< B O\n",
      "/DATETIME O O\n",
      "> B O\n",
      "< B O\n",
      "BODY O O\n",
      "> B O\n",
      "< B O\n",
      "TEXT I O\n",
      "> B O\n",
      "< B O\n",
      "TURN O O\n",
      "> B O\n",
      "a <UNK> O\n",
      "federal <UNK> O\n",
      "appeals <UNK> O\n",
      "court <UNK> B\n",
      "will O O\n",
      "decide I O\n",
      "how I O\n",
      "long <UNK> O\n",
      "dirty <UNK> O\n",
      "bomb <UNK> B\n",
      "suspect I B\n",
      "<UNK> O B\n",
      "<UNK> O I\n",
      "can I O\n",
      "be <PAD> O\n",
      "<UNK> O O\n",
      "and O O\n",
      "whether I O\n",
      "he <PAD> B\n",
      "can B O\n",
      "meet B O\n",
      "with B O\n",
      "attorneys B B\n",
      ". B O\n",
      "the B O\n",
      "u.s B B\n",
      ". O O\n",
      "attorney I B\n",
      "says O O\n",
      "<UNK> O B\n",
      "is O O\n",
      "an <PAD> O\n",
      "enemy <UNK> O\n",
      "<UNK> O B\n",
      "and O O\n",
      "not O O\n",
      "<UNK> O O\n",
      "to O O\n",
      "<UNK> O O\n",
      ". I O\n",
      "he <PAD> B\n",
      "is <PAD> O\n",
      "accused <UNK> O\n",
      "of B O\n",
      "<UNK> <PAD> O\n",
      "to I O\n",
      "<UNK> <PAD> O\n",
      "a <UNK> O\n",
      "dirty <UNK> O\n",
      "bomb <UNK> B\n",
      "in B O\n",
      "this <PAD> O\n",
      "country O B\n",
      ". O O\n",
      "< B O\n",
      "/TURN B O\n",
      "> B O\n",
      "< B O\n",
      "/TEXT <UNK> O\n",
      "> B O\n",
      "< B O\n",
      "/BODY O O\n",
      "> O O\n",
      "< B O\n",
      "ENDTIME B O\n",
      "> B O\n",
      "2003 B O\n",
      "- O O\n",
      "04 I O\n",
      "- <UNK> O\n",
      "09 <UNK> O\n",
      "<UNK> O O\n",
      "< B O\n",
      "/ENDTIME I O\n",
      "> B O\n",
      "< B O\n",
      "/DOC <PAD> O\n",
      "> B O\n"
     ]
    }
   ],
   "source": [
    "for a,b,c in zip(xs[-1], preds[-1], ys[-1]):\n",
    "    print a,b,c"
   ]
  },
  {
   "cell_type": "markdown",
   "metadata": {},
   "source": [
    "# Chainer Trainer Abstraction"
   ]
  },
  {
   "cell_type": "code",
   "execution_count": 51,
   "metadata": {
    "collapsed": false
   },
   "outputs": [
    {
     "name": "stdout",
     "output_type": "stream",
     "text": [
      "\u001b[J     total [..................................................]  0.00%\n",
      "this epoch [..................................................]  0.00%\n",
      "         5 iter, 0 epoch / 10 epochs\n",
      "       inf iters/sec. Estimated time to finish: 0:00:00.\n",
      "\u001b[4A\u001b[J"
     ]
    },
    {
     "ename": "KeyboardInterrupt",
     "evalue": "",
     "output_type": "error",
     "traceback": [
      "\u001b[0;31m---------------------------------------------------------------------------\u001b[0m",
      "\u001b[0;31mKeyboardInterrupt\u001b[0m                         Traceback (most recent call last)",
      "\u001b[0;32m<ipython-input-51-94152e79b8cf>\u001b[0m in \u001b[0;36m<module>\u001b[0;34m()\u001b[0m\n\u001b[1;32m     14\u001b[0m \u001b[0;31m# trainer.extend(PrintReport())\u001b[0m\u001b[0;34m\u001b[0m\u001b[0;34m\u001b[0m\u001b[0m\n\u001b[1;32m     15\u001b[0m \u001b[0;34m\u001b[0m\u001b[0m\n\u001b[0;32m---> 16\u001b[0;31m \u001b[0mtrainer\u001b[0m\u001b[0;34m.\u001b[0m\u001b[0mrun\u001b[0m\u001b[0;34m(\u001b[0m\u001b[0;34m)\u001b[0m\u001b[0;34m\u001b[0m\u001b[0m\n\u001b[0m",
      "\u001b[0;32m/Users/thomaseffland/.virtualenvs/research/lib/python2.7/site-packages/chainer/training/trainer.pyc\u001b[0m in \u001b[0;36mrun\u001b[0;34m(self)\u001b[0m\n\u001b[1;32m    290\u001b[0m                     \u001b[0;32mfor\u001b[0m \u001b[0mname\u001b[0m\u001b[0;34m,\u001b[0m \u001b[0mentry\u001b[0m \u001b[0;32min\u001b[0m \u001b[0mextensions\u001b[0m\u001b[0;34m:\u001b[0m\u001b[0;34m\u001b[0m\u001b[0m\n\u001b[1;32m    291\u001b[0m                         \u001b[0;32mif\u001b[0m \u001b[0mentry\u001b[0m\u001b[0;34m.\u001b[0m\u001b[0mtrigger\u001b[0m\u001b[0;34m(\u001b[0m\u001b[0mself\u001b[0m\u001b[0;34m)\u001b[0m\u001b[0;34m:\u001b[0m\u001b[0;34m\u001b[0m\u001b[0m\n\u001b[0;32m--> 292\u001b[0;31m                             \u001b[0mentry\u001b[0m\u001b[0;34m.\u001b[0m\u001b[0mextension\u001b[0m\u001b[0;34m(\u001b[0m\u001b[0mself\u001b[0m\u001b[0;34m)\u001b[0m\u001b[0;34m\u001b[0m\u001b[0m\n\u001b[0m\u001b[1;32m    293\u001b[0m         \u001b[0;32mfinally\u001b[0m\u001b[0;34m:\u001b[0m\u001b[0;34m\u001b[0m\u001b[0m\n\u001b[1;32m    294\u001b[0m             \u001b[0;32mfor\u001b[0m \u001b[0m_\u001b[0m\u001b[0;34m,\u001b[0m \u001b[0mentry\u001b[0m \u001b[0;32min\u001b[0m \u001b[0mextensions\u001b[0m\u001b[0;34m:\u001b[0m\u001b[0;34m\u001b[0m\u001b[0m\n",
      "\u001b[0;32m/Users/thomaseffland/.virtualenvs/research/lib/python2.7/site-packages/chainer/training/extensions/evaluator.pyc\u001b[0m in \u001b[0;36m__call__\u001b[0;34m(self, trainer)\u001b[0m\n\u001b[1;32m    132\u001b[0m \u001b[0;34m\u001b[0m\u001b[0m\n\u001b[1;32m    133\u001b[0m         \u001b[0;32mwith\u001b[0m \u001b[0mreporter\u001b[0m\u001b[0;34m:\u001b[0m\u001b[0;34m\u001b[0m\u001b[0m\n\u001b[0;32m--> 134\u001b[0;31m             \u001b[0mresult\u001b[0m \u001b[0;34m=\u001b[0m \u001b[0mself\u001b[0m\u001b[0;34m.\u001b[0m\u001b[0mevaluate\u001b[0m\u001b[0;34m(\u001b[0m\u001b[0;34m)\u001b[0m\u001b[0;34m\u001b[0m\u001b[0m\n\u001b[0m\u001b[1;32m    135\u001b[0m \u001b[0;34m\u001b[0m\u001b[0m\n\u001b[1;32m    136\u001b[0m         \u001b[0mreporter_module\u001b[0m\u001b[0;34m.\u001b[0m\u001b[0mreport\u001b[0m\u001b[0;34m(\u001b[0m\u001b[0mresult\u001b[0m\u001b[0;34m)\u001b[0m\u001b[0;34m\u001b[0m\u001b[0m\n",
      "\u001b[0;32m<ipython-input-50-9e7ff06d04a3>\u001b[0m in \u001b[0;36mevaluate\u001b[0;34m(self)\u001b[0m\n\u001b[1;32m     99\u001b[0m                 \u001b[0;32mif\u001b[0m \u001b[0misinstance\u001b[0m\u001b[0;34m(\u001b[0m\u001b[0mbatch\u001b[0m\u001b[0;34m,\u001b[0m \u001b[0mtuple\u001b[0m\u001b[0;34m)\u001b[0m\u001b[0;34m:\u001b[0m\u001b[0;34m\u001b[0m\u001b[0m\n\u001b[1;32m    100\u001b[0m                     \u001b[0min_vars\u001b[0m \u001b[0;34m=\u001b[0m \u001b[0mtuple\u001b[0m\u001b[0;34m(\u001b[0m\u001b[0;34m[\u001b[0m\u001b[0mself\u001b[0m\u001b[0;34m.\u001b[0m\u001b[0mconverter\u001b[0m\u001b[0;34m(\u001b[0m\u001b[0mx_list\u001b[0m\u001b[0;34m)\u001b[0m \u001b[0;32mfor\u001b[0m \u001b[0mx_list\u001b[0m \u001b[0;32min\u001b[0m \u001b[0mzip\u001b[0m\u001b[0;34m(\u001b[0m\u001b[0;34m*\u001b[0m\u001b[0mbatch\u001b[0m\u001b[0;34m)\u001b[0m\u001b[0;34m]\u001b[0m\u001b[0;34m)\u001b[0m\u001b[0;34m\u001b[0m\u001b[0m\n\u001b[0;32m--> 101\u001b[0;31m                     \u001b[0meval_func\u001b[0m\u001b[0;34m(\u001b[0m\u001b[0;34m*\u001b[0m\u001b[0min_vars\u001b[0m\u001b[0;34m)\u001b[0m\u001b[0;34m\u001b[0m\u001b[0m\n\u001b[0m\u001b[1;32m    102\u001b[0m                 \u001b[0;32melif\u001b[0m \u001b[0misinstance\u001b[0m\u001b[0;34m(\u001b[0m\u001b[0mbatch\u001b[0m\u001b[0;34m,\u001b[0m \u001b[0mdict\u001b[0m\u001b[0;34m)\u001b[0m\u001b[0;34m:\u001b[0m\u001b[0;34m\u001b[0m\u001b[0m\n\u001b[1;32m    103\u001b[0m                     in_vars = {key: self.converter(x_list)\n",
      "\u001b[0;32m<ipython-input-50-9e7ff06d04a3>\u001b[0m in \u001b[0;36m__call__\u001b[0;34m(self, x_list, y_list)\u001b[0m\n\u001b[1;32m     27\u001b[0m     \u001b[0;32mdef\u001b[0m \u001b[0m__call__\u001b[0m\u001b[0;34m(\u001b[0m\u001b[0mself\u001b[0m\u001b[0;34m,\u001b[0m \u001b[0mx_list\u001b[0m\u001b[0;34m,\u001b[0m \u001b[0my_list\u001b[0m\u001b[0;34m)\u001b[0m\u001b[0;34m:\u001b[0m\u001b[0;34m\u001b[0m\u001b[0m\n\u001b[1;32m     28\u001b[0m         \u001b[0mloss\u001b[0m \u001b[0;34m=\u001b[0m \u001b[0;36m0\u001b[0m\u001b[0;34m\u001b[0m\u001b[0m\n\u001b[0;32m---> 29\u001b[0;31m         \u001b[0myhat_list\u001b[0m \u001b[0;34m=\u001b[0m \u001b[0mself\u001b[0m\u001b[0;34m.\u001b[0m\u001b[0msequence_predictor\u001b[0m\u001b[0;34m(\u001b[0m\u001b[0mx_list\u001b[0m\u001b[0;34m)\u001b[0m\u001b[0;34m\u001b[0m\u001b[0m\n\u001b[0m\u001b[1;32m     30\u001b[0m         \u001b[0;32mfor\u001b[0m \u001b[0myhat\u001b[0m\u001b[0;34m,\u001b[0m \u001b[0my\u001b[0m \u001b[0;32min\u001b[0m \u001b[0mzip\u001b[0m\u001b[0;34m(\u001b[0m\u001b[0myhat_list\u001b[0m\u001b[0;34m,\u001b[0m \u001b[0my_list\u001b[0m\u001b[0;34m)\u001b[0m\u001b[0;34m:\u001b[0m\u001b[0;34m\u001b[0m\u001b[0m\n\u001b[1;32m     31\u001b[0m             \u001b[0mloss\u001b[0m \u001b[0;34m+=\u001b[0m \u001b[0mself\u001b[0m\u001b[0;34m.\u001b[0m\u001b[0mloss_func\u001b[0m\u001b[0;34m(\u001b[0m\u001b[0myhat\u001b[0m\u001b[0;34m,\u001b[0m \u001b[0my\u001b[0m\u001b[0;34m)\u001b[0m\u001b[0;34m\u001b[0m\u001b[0m\n",
      "\u001b[0;32m<ipython-input-50-9e7ff06d04a3>\u001b[0m in \u001b[0;36m__call__\u001b[0;34m(self, x_list)\u001b[0m\n\u001b[1;32m     11\u001b[0m \u001b[0;31m#         print  \"{} steps,\".format(len(x_list)),\u001b[0m\u001b[0;34m\u001b[0m\u001b[0;34m\u001b[0m\u001b[0m\n\u001b[1;32m     12\u001b[0m         \u001b[0mstart\u001b[0m \u001b[0;34m=\u001b[0m \u001b[0mtime\u001b[0m\u001b[0;34m(\u001b[0m\u001b[0;34m)\u001b[0m\u001b[0;34m\u001b[0m\u001b[0m\n\u001b[0;32m---> 13\u001b[0;31m         \u001b[0mlstms\u001b[0m \u001b[0;34m=\u001b[0m \u001b[0;34m[\u001b[0m \u001b[0mself\u001b[0m\u001b[0;34m.\u001b[0m\u001b[0mlstm\u001b[0m\u001b[0;34m(\u001b[0m\u001b[0mx\u001b[0m\u001b[0;34m)\u001b[0m \u001b[0;32mfor\u001b[0m \u001b[0mx\u001b[0m \u001b[0;32min\u001b[0m \u001b[0membeds\u001b[0m \u001b[0;34m]\u001b[0m\u001b[0;34m\u001b[0m\u001b[0m\n\u001b[0m\u001b[1;32m     14\u001b[0m         \u001b[0ms\u001b[0m \u001b[0;34m=\u001b[0m \u001b[0mtime\u001b[0m\u001b[0;34m(\u001b[0m\u001b[0;34m)\u001b[0m\u001b[0;34m-\u001b[0m\u001b[0mstart\u001b[0m\u001b[0;34m\u001b[0m\u001b[0m\n\u001b[1;32m     15\u001b[0m \u001b[0;31m#         print \"{} secs, {} steps/sec\".format(s, float(len(lstms))/s)\u001b[0m\u001b[0;34m\u001b[0m\u001b[0;34m\u001b[0m\u001b[0m\n",
      "\u001b[0;32m/Users/thomaseffland/.virtualenvs/research/lib/python2.7/site-packages/chainer/links/connection/lstm.pyc\u001b[0m in \u001b[0;36m__call__\u001b[0;34m(self, x)\u001b[0m\n\u001b[1;32m    222\u001b[0m \u001b[0;34m\u001b[0m\u001b[0m\n\u001b[1;32m    223\u001b[0m         \u001b[0mbatch\u001b[0m \u001b[0;34m=\u001b[0m \u001b[0mx\u001b[0m\u001b[0;34m.\u001b[0m\u001b[0mshape\u001b[0m\u001b[0;34m[\u001b[0m\u001b[0;36m0\u001b[0m\u001b[0;34m]\u001b[0m\u001b[0;34m\u001b[0m\u001b[0m\n\u001b[0;32m--> 224\u001b[0;31m         \u001b[0mlstm_in\u001b[0m \u001b[0;34m=\u001b[0m \u001b[0mself\u001b[0m\u001b[0;34m.\u001b[0m\u001b[0mupward\u001b[0m\u001b[0;34m(\u001b[0m\u001b[0mx\u001b[0m\u001b[0;34m)\u001b[0m\u001b[0;34m\u001b[0m\u001b[0m\n\u001b[0m\u001b[1;32m    225\u001b[0m         \u001b[0mh_rest\u001b[0m \u001b[0;34m=\u001b[0m \u001b[0mNone\u001b[0m\u001b[0;34m\u001b[0m\u001b[0m\n\u001b[1;32m    226\u001b[0m         \u001b[0;32mif\u001b[0m \u001b[0mself\u001b[0m\u001b[0;34m.\u001b[0m\u001b[0mh\u001b[0m \u001b[0;32mis\u001b[0m \u001b[0;32mnot\u001b[0m \u001b[0mNone\u001b[0m\u001b[0;34m:\u001b[0m\u001b[0;34m\u001b[0m\u001b[0m\n",
      "\u001b[0;32m/Users/thomaseffland/.virtualenvs/research/lib/python2.7/site-packages/chainer/links/connection/linear.pyc\u001b[0m in \u001b[0;36m__call__\u001b[0;34m(self, x)\u001b[0m\n\u001b[1;32m     90\u001b[0m             \u001b[0;32mwith\u001b[0m \u001b[0mcuda\u001b[0m\u001b[0;34m.\u001b[0m\u001b[0mget_device\u001b[0m\u001b[0;34m(\u001b[0m\u001b[0mself\u001b[0m\u001b[0;34m.\u001b[0m\u001b[0m_device_id\u001b[0m\u001b[0;34m)\u001b[0m\u001b[0;34m:\u001b[0m\u001b[0;34m\u001b[0m\u001b[0m\n\u001b[1;32m     91\u001b[0m                 \u001b[0mself\u001b[0m\u001b[0;34m.\u001b[0m\u001b[0m_initialize_params\u001b[0m\u001b[0;34m(\u001b[0m\u001b[0mx\u001b[0m\u001b[0;34m.\u001b[0m\u001b[0msize\u001b[0m \u001b[0;34m//\u001b[0m \u001b[0mx\u001b[0m\u001b[0;34m.\u001b[0m\u001b[0mshape\u001b[0m\u001b[0;34m[\u001b[0m\u001b[0;36m0\u001b[0m\u001b[0;34m]\u001b[0m\u001b[0;34m)\u001b[0m\u001b[0;34m\u001b[0m\u001b[0m\n\u001b[0;32m---> 92\u001b[0;31m         \u001b[0;32mreturn\u001b[0m \u001b[0mlinear\u001b[0m\u001b[0;34m.\u001b[0m\u001b[0mlinear\u001b[0m\u001b[0;34m(\u001b[0m\u001b[0mx\u001b[0m\u001b[0;34m,\u001b[0m \u001b[0mself\u001b[0m\u001b[0;34m.\u001b[0m\u001b[0mW\u001b[0m\u001b[0;34m,\u001b[0m \u001b[0mself\u001b[0m\u001b[0;34m.\u001b[0m\u001b[0mb\u001b[0m\u001b[0;34m)\u001b[0m\u001b[0;34m\u001b[0m\u001b[0m\n\u001b[0m",
      "\u001b[0;32m/Users/thomaseffland/.virtualenvs/research/lib/python2.7/site-packages/chainer/functions/connection/linear.pyc\u001b[0m in \u001b[0;36mlinear\u001b[0;34m(x, W, b)\u001b[0m\n\u001b[1;32m     77\u001b[0m         \u001b[0;32mreturn\u001b[0m \u001b[0mLinearFunction\u001b[0m\u001b[0;34m(\u001b[0m\u001b[0;34m)\u001b[0m\u001b[0;34m(\u001b[0m\u001b[0mx\u001b[0m\u001b[0;34m,\u001b[0m \u001b[0mW\u001b[0m\u001b[0;34m)\u001b[0m\u001b[0;34m\u001b[0m\u001b[0m\n\u001b[1;32m     78\u001b[0m     \u001b[0;32melse\u001b[0m\u001b[0;34m:\u001b[0m\u001b[0;34m\u001b[0m\u001b[0m\n\u001b[0;32m---> 79\u001b[0;31m         \u001b[0;32mreturn\u001b[0m \u001b[0mLinearFunction\u001b[0m\u001b[0;34m(\u001b[0m\u001b[0;34m)\u001b[0m\u001b[0;34m(\u001b[0m\u001b[0mx\u001b[0m\u001b[0;34m,\u001b[0m \u001b[0mW\u001b[0m\u001b[0;34m,\u001b[0m \u001b[0mb\u001b[0m\u001b[0;34m)\u001b[0m\u001b[0;34m\u001b[0m\u001b[0m\n\u001b[0m",
      "\u001b[0;32m/Users/thomaseffland/.virtualenvs/research/lib/python2.7/site-packages/chainer/function.pyc\u001b[0m in \u001b[0;36m__call__\u001b[0;34m(self, *inputs)\u001b[0m\n\u001b[1;32m    197\u001b[0m         \u001b[0;31m# Forward prop\u001b[0m\u001b[0;34m\u001b[0m\u001b[0;34m\u001b[0m\u001b[0m\n\u001b[1;32m    198\u001b[0m         \u001b[0;32mwith\u001b[0m \u001b[0mcuda\u001b[0m\u001b[0;34m.\u001b[0m\u001b[0mget_device\u001b[0m\u001b[0;34m(\u001b[0m\u001b[0;34m*\u001b[0m\u001b[0min_data\u001b[0m\u001b[0;34m)\u001b[0m\u001b[0;34m:\u001b[0m\u001b[0;34m\u001b[0m\u001b[0m\n\u001b[0;32m--> 199\u001b[0;31m             \u001b[0moutputs\u001b[0m \u001b[0;34m=\u001b[0m \u001b[0mself\u001b[0m\u001b[0;34m.\u001b[0m\u001b[0mforward\u001b[0m\u001b[0;34m(\u001b[0m\u001b[0min_data\u001b[0m\u001b[0;34m)\u001b[0m\u001b[0;34m\u001b[0m\u001b[0m\n\u001b[0m\u001b[1;32m    200\u001b[0m             \u001b[0;32massert\u001b[0m \u001b[0mtype\u001b[0m\u001b[0;34m(\u001b[0m\u001b[0moutputs\u001b[0m\u001b[0;34m)\u001b[0m \u001b[0;34m==\u001b[0m \u001b[0mtuple\u001b[0m\u001b[0;34m\u001b[0m\u001b[0m\n\u001b[1;32m    201\u001b[0m         \u001b[0;32mfor\u001b[0m \u001b[0mhook\u001b[0m \u001b[0;32min\u001b[0m \u001b[0msix\u001b[0m\u001b[0;34m.\u001b[0m\u001b[0mitervalues\u001b[0m\u001b[0;34m(\u001b[0m\u001b[0mhooks\u001b[0m\u001b[0;34m)\u001b[0m\u001b[0;34m:\u001b[0m\u001b[0;34m\u001b[0m\u001b[0m\n",
      "\u001b[0;32m/Users/thomaseffland/.virtualenvs/research/lib/python2.7/site-packages/chainer/functions/connection/linear.pyc\u001b[0m in \u001b[0;36mforward\u001b[0;34m(self, inputs)\u001b[0m\n\u001b[1;32m     34\u001b[0m         \u001b[0mx\u001b[0m \u001b[0;34m=\u001b[0m \u001b[0m_as_mat\u001b[0m\u001b[0;34m(\u001b[0m\u001b[0minputs\u001b[0m\u001b[0;34m[\u001b[0m\u001b[0;36m0\u001b[0m\u001b[0;34m]\u001b[0m\u001b[0;34m)\u001b[0m\u001b[0;34m\u001b[0m\u001b[0m\n\u001b[1;32m     35\u001b[0m         \u001b[0mW\u001b[0m \u001b[0;34m=\u001b[0m \u001b[0minputs\u001b[0m\u001b[0;34m[\u001b[0m\u001b[0;36m1\u001b[0m\u001b[0;34m]\u001b[0m\u001b[0;34m\u001b[0m\u001b[0m\n\u001b[0;32m---> 36\u001b[0;31m         \u001b[0my\u001b[0m \u001b[0;34m=\u001b[0m \u001b[0mx\u001b[0m\u001b[0;34m.\u001b[0m\u001b[0mdot\u001b[0m\u001b[0;34m(\u001b[0m\u001b[0mW\u001b[0m\u001b[0;34m.\u001b[0m\u001b[0mT\u001b[0m\u001b[0;34m)\u001b[0m\u001b[0;34m.\u001b[0m\u001b[0mastype\u001b[0m\u001b[0;34m(\u001b[0m\u001b[0mx\u001b[0m\u001b[0;34m.\u001b[0m\u001b[0mdtype\u001b[0m\u001b[0;34m,\u001b[0m \u001b[0mcopy\u001b[0m\u001b[0;34m=\u001b[0m\u001b[0mFalse\u001b[0m\u001b[0;34m)\u001b[0m\u001b[0;34m\u001b[0m\u001b[0m\n\u001b[0m\u001b[1;32m     37\u001b[0m         \u001b[0;32mif\u001b[0m \u001b[0mlen\u001b[0m\u001b[0;34m(\u001b[0m\u001b[0minputs\u001b[0m\u001b[0;34m)\u001b[0m \u001b[0;34m==\u001b[0m \u001b[0;36m3\u001b[0m\u001b[0;34m:\u001b[0m\u001b[0;34m\u001b[0m\u001b[0m\n\u001b[1;32m     38\u001b[0m             \u001b[0mb\u001b[0m \u001b[0;34m=\u001b[0m \u001b[0minputs\u001b[0m\u001b[0;34m[\u001b[0m\u001b[0;36m2\u001b[0m\u001b[0;34m]\u001b[0m\u001b[0;34m\u001b[0m\u001b[0m\n",
      "\u001b[0;31mKeyboardInterrupt\u001b[0m: "
     ]
    }
   ],
   "source": [
    "# embed = ch.functions.EmbedID(token_vocab.v, 100)\n",
    "# tagger = Tagger(embed, 100, boundary_vocab.v)\n",
    "# model_loss = SequenceLoss(tagger)\n",
    "# optimizer = ch.optimizers.Adam()\n",
    "# optimizer.use_cleargrads()\n",
    "# optimizer.setup(model_loss)\n",
    "\n",
    "# train_iter = BucketedIterator(zip(ix_train, iy_train), 64, repeat=True)\n",
    "# valid_iter = BucketedIterator(zip(ix_valid, iy_valid), 64, repeat=True)\n",
    "# updater = SequenceUpdater(train_iter, optimizer)\n",
    "# trainer = ch.training.Trainer(updater, (10, 'epoch'), out='result')\n",
    "# trainer.extend(ch.training.extensions.ProgressBar(update_interval=5))\n",
    "# trainer.extend(SequenceEvaluator(valid_iter, model_loss))\n",
    "# # trainer.extend(PrintReport())\n",
    "\n",
    "# trainer.run()"
   ]
  },
  {
   "cell_type": "code",
   "execution_count": 150,
   "metadata": {
    "collapsed": false
   },
   "outputs": [
    {
     "name": "stdout",
     "output_type": "stream",
     "text": [
      "None\n"
     ]
    }
   ],
   "source": [
    "print npr.shuffle([1,2,3])"
   ]
  },
  {
   "cell_type": "code",
   "execution_count": 74,
   "metadata": {
    "collapsed": false
   },
   "outputs": [
    {
     "data": {
      "text/plain": [
       "1453079729188098211"
      ]
     },
     "execution_count": 74,
     "metadata": {},
     "output_type": "execute_result"
    }
   ],
   "source": [
    "'abc'"
   ]
  },
  {
   "cell_type": "code",
   "execution_count": 206,
   "metadata": {
    "collapsed": false
   },
   "outputs": [
    {
     "ename": "IndentationError",
     "evalue": "expected an indented block (<ipython-input-206-bcff80e9d78d>, line 4)",
     "output_type": "error",
     "traceback": [
      "\u001b[0;36m  File \u001b[0;32m\"<ipython-input-206-bcff80e9d78d>\"\u001b[0;36m, line \u001b[0;32m4\u001b[0m\n\u001b[0;31m    return ch.functions.transpose_sequence([ ch.Variable(np.array(x, dtype=np.int32))\u001b[0m\n\u001b[0m         ^\u001b[0m\n\u001b[0;31mIndentationError\u001b[0m\u001b[0;31m:\u001b[0m expected an indented block\n"
     ]
    }
   ],
   "source": [
    "    \n",
    "def sequence_converter(in_list, device=None):\n",
    "    # note that device is omitted\n",
    "    return ch.functions.transpose_sequence([ ch.Variable(np.array(x, dtype=np.int32))\n",
    "                                             for x in in_list ])\n",
    "def volatile_sequence_converter(in_list, device=None):\n",
    "    # note that device is omitted\n",
    "    return ch.functions.transpose_sequence([ ch.Variable(np.array(x, dtype=np.int32),\n",
    "                                                         volatile=\"AUTO\")\n",
    "                                             for x in in_list ])\n",
    "    \n",
    "class SequenceUpdater(ch.training.StandardUpdater):\n",
    "    def __init__(self, *args, **kwds):\n",
    "        super(SequenceUpdater, self).__init__(*args, **kwds)\n",
    "        self.converter = sequence_converter\n",
    "        \n",
    "    def update_core(self):\n",
    "        batch = self._iterators['main'].next()        \n",
    "\n",
    "        optimizer = self._optimizers['main']\n",
    "        loss_func = self.loss_func or optimizer.target\n",
    "\n",
    "        if isinstance(batch, tuple):\n",
    "            in_vars = tuple([self.converter(x_list) for x_list in zip(*batch)])\n",
    "            optimizer.update(loss_func, *in_vars)\n",
    "        elif isinstance(batch, dict):\n",
    "            in_vars = {key: self.converter(x_list)\n",
    "                       for key, x_list in six.iteritems(batch)}\n",
    "            optimizer.update(loss_func, **in_vars)\n",
    "        else:\n",
    "            in_var = self.converter(batch)\n",
    "            optimizer.update(loss_func, in_var)\n",
    "            \n",
    "import chainer.reporter as reporter_module\n",
    "class SequenceEvaluator(ch.training.extensions.Evaluator):\n",
    "    def __init__(self, *args, **kwds):\n",
    "        super(SequenceEvaluator, self).__init__(*args, **kwds)\n",
    "        self.converter = volatile_sequence_converter\n",
    "        \n",
    "    def evaluate(self):\n",
    "        \"\"\"Evaluates the model and returns a result dictionary.\n",
    "\n",
    "        This method runs the evaluation loop over the validation dataset. It\n",
    "        accumulates the reported values to :class:`~chainer.DictSummary` and\n",
    "        returns a dictionary whose values are means computed by the summary.\n",
    "\n",
    "        Users can override this method to customize the evaluation routine.\n",
    "\n",
    "        Returns:\n",
    "            dict: Result dictionary. This dictionary is further reported via\n",
    "                :func:`~chainer.report` without specifying any observer.\n",
    "\n",
    "        \"\"\"\n",
    "        iterator = self._iterators['main']\n",
    "        target = self._targets['main']\n",
    "        eval_func = self.eval_func or target\n",
    "\n",
    "        if self.eval_hook:\n",
    "            self.eval_hook(self)\n",
    "        it = copy.copy(iterator)\n",
    "        summary = reporter_module.DictSummary()\n",
    "\n",
    "        for batch in it:\n",
    "            observation = {}\n",
    "            with reporter_module.report_scope(observation):\n",
    "                if isinstance(batch, tuple):\n",
    "                    in_vars = tuple([self.converter(x_list) for x_list in zip(*batch)])\n",
    "                    eval_func(*in_vars)\n",
    "                elif isinstance(batch, dict):\n",
    "                    in_vars = {key: self.converter(x_list)\n",
    "                               for key, x_list in six.iteritems(batch)}\n",
    "                    eval_func(**in_vars)\n",
    "                else:\n",
    "                    in_var = self.converter(batch)\n",
    "                    eval_func(in_var)\n",
    "            summary.add(observation)\n",
    "\n",
    "        return summary.compute_mean()"
   ]
  },
  {
   "cell_type": "code",
   "execution_count": 4,
   "metadata": {
    "collapsed": false
   },
   "outputs": [],
   "source": [
    "import chainer as ch\n",
    "embed = ch.links.EmbedID(2,2)\n",
    "class Embed(ch.Chain):\n",
    "    def __init__(self, embed):\n",
    "        super(Embed, self).__init__(\n",
    "            embed_name = embed\n",
    "        )\n",
    "    def __call__(self, x):\n",
    "        return self.embed(x)\n",
    "    \n",
    "e1 = Embed(embed)\n",
    "e2 = Embed(embed.copy())"
   ]
  },
  {
   "cell_type": "code",
   "execution_count": 7,
   "metadata": {
    "collapsed": false
   },
   "outputs": [
    {
     "ename": "NotImplementedError",
     "evalue": "",
     "output_type": "error",
     "traceback": [
      "\u001b[0;31m---------------------------------------------------------------------------\u001b[0m",
      "\u001b[0;31mNotImplementedError\u001b[0m                       Traceback (most recent call last)",
      "\u001b[0;32m<ipython-input-7-1446f5988a84>\u001b[0m in \u001b[0;36m<module>\u001b[0;34m()\u001b[0m\n\u001b[0;32m----> 1\u001b[0;31m \u001b[0;32mraise\u001b[0m \u001b[0mNotImplementedError\u001b[0m\u001b[0;34m\u001b[0m\u001b[0m\n\u001b[0m",
      "\u001b[0;31mNotImplementedError\u001b[0m: "
     ]
    }
   ],
   "source": [
    "raise NotImplementedError"
   ]
  },
  {
   "cell_type": "code",
   "execution_count": 4,
   "metadata": {
    "collapsed": false
   },
   "outputs": [
    {
     "data": {
      "text/plain": [
       "False"
      ]
     },
     "execution_count": 4,
     "metadata": {},
     "output_type": "execute_result"
    }
   ],
   "source": [
    "'B'.startswith(('O', 'S'))"
   ]
  },
  {
   "cell_type": "code",
   "execution_count": 6,
   "metadata": {
    "collapsed": false
   },
   "outputs": [
    {
     "ename": "IndexError",
     "evalue": "list index out of range",
     "output_type": "error",
     "traceback": [
      "\u001b[0;31m---------------------------------------------------------------------------\u001b[0m",
      "\u001b[0;31mIndexError\u001b[0m                                Traceback (most recent call last)",
      "\u001b[0;32m<ipython-input-6-41ea69ff204e>\u001b[0m in \u001b[0;36m<module>\u001b[0;34m()\u001b[0m\n\u001b[0;32m----> 1\u001b[0;31m \u001b[0;34m'B'\u001b[0m\u001b[0;34m.\u001b[0m\u001b[0msplit\u001b[0m\u001b[0;34m(\u001b[0m\u001b[0;34m'-'\u001b[0m\u001b[0;34m)\u001b[0m\u001b[0;34m[\u001b[0m\u001b[0;36m1\u001b[0m\u001b[0;34m]\u001b[0m\u001b[0;34m\u001b[0m\u001b[0m\n\u001b[0m",
      "\u001b[0;31mIndexError\u001b[0m: list index out of range"
     ]
    }
   ],
   "source": [
    "'B'.split('-')[1]"
   ]
  },
  {
   "cell_type": "code",
   "execution_count": 7,
   "metadata": {
    "collapsed": false
   },
   "outputs": [
    {
     "data": {
      "text/plain": [
       "[1, 2, 3]"
      ]
     },
     "execution_count": 7,
     "metadata": {},
     "output_type": "execute_result"
    }
   ],
   "source": [
    "sorted([3,2,1])"
   ]
  },
  {
   "cell_type": "code",
   "execution_count": null,
   "metadata": {
    "collapsed": true
   },
   "outputs": [],
   "source": []
  }
 ],
 "metadata": {
  "kernelspec": {
   "display_name": "Python 2",
   "language": "python",
   "name": "python2"
  },
  "language_info": {
   "codemirror_mode": {
    "name": "ipython",
    "version": 2
   },
   "file_extension": ".py",
   "mimetype": "text/x-python",
   "name": "python",
   "nbconvert_exporter": "python",
   "pygments_lexer": "ipython2",
   "version": "2.7.10"
  }
 },
 "nbformat": 4,
 "nbformat_minor": 1
}
