{
 "cells": [
  {
   "cell_type": "code",
   "execution_count": 1,
   "metadata": {
    "collapsed": true
   },
   "outputs": [],
   "source": [
    "import numpy as np\n",
    "import numpy.random as npr\n",
    "import json\n",
    "import io\n",
    "import time\n",
    "import os.path\n",
    "import six\n",
    "import copy\n",
    "\n",
    "import matplotlib.pyplot as plt\n",
    "%matplotlib inline\n",
    "import seaborn as sb\n",
    "sb.set_color_codes()\n",
    "plt.rcParams['figure.figsize'] = (6,4)\n",
    "\n",
    "import chainer as ch\n",
    "import chainer.training.extensions # for some reason this isn't automatically imported"
   ]
  },
  {
   "cell_type": "code",
   "execution_count": 2,
   "metadata": {
    "collapsed": false
   },
   "outputs": [],
   "source": [
    "# allow for importing local infonet package\n",
    "import sys\n",
    "import os\n",
    "sys.path.append(os.path.abspath('..'))\n",
    "# import sys\n",
    "# module_path = os.path.abspath(os.path.join('..'))\n",
    "# if module_path not in sys.path:\n",
    "#     sys.path.append(module_path)"
   ]
  },
  {
   "cell_type": "code",
   "execution_count": 21,
   "metadata": {
    "collapsed": false
   },
   "outputs": [
    {
     "ename": "ImportError",
     "evalue": "cannot import name compute_tag_map",
     "output_type": "error",
     "traceback": [
      "\u001b[0;31m---------------------------------------------------------------------------\u001b[0m",
      "\u001b[0;31mImportError\u001b[0m                               Traceback (most recent call last)",
      "\u001b[0;32m<ipython-input-21-4ddbb74b4704>\u001b[0m in \u001b[0;36m<module>\u001b[0;34m()\u001b[0m\n\u001b[1;32m      1\u001b[0m \u001b[0;32mfrom\u001b[0m \u001b[0minfonet\u001b[0m\u001b[0;34m.\u001b[0m\u001b[0mvocab\u001b[0m \u001b[0;32mimport\u001b[0m \u001b[0mVocab\u001b[0m\u001b[0;34m\u001b[0m\u001b[0m\n\u001b[0;32m----> 2\u001b[0;31m \u001b[0;32mfrom\u001b[0m \u001b[0minfonet\u001b[0m\u001b[0;34m.\u001b[0m\u001b[0mpreprocess\u001b[0m \u001b[0;32mimport\u001b[0m \u001b[0mcompute_flat_mention_labels\u001b[0m\u001b[0;34m,\u001b[0m \u001b[0mEntity_BIO_map\u001b[0m\u001b[0;34m,\u001b[0m \u001b[0mBIO_map\u001b[0m\u001b[0;34m,\u001b[0m \u001b[0mtyped_BIO_map\u001b[0m\u001b[0;34m,\u001b[0m \u001b[0mcompute_tag_map\u001b[0m\u001b[0;34m\u001b[0m\u001b[0m\n\u001b[0m\u001b[1;32m      3\u001b[0m \u001b[0;32mfrom\u001b[0m \u001b[0minfonet\u001b[0m\u001b[0;34m.\u001b[0m\u001b[0mutil\u001b[0m \u001b[0;32mimport\u001b[0m \u001b[0mconvert_sequences\u001b[0m\u001b[0;34m,\u001b[0m \u001b[0mSequenceIterator\u001b[0m\u001b[0;34m\u001b[0m\u001b[0m\n\u001b[1;32m      4\u001b[0m \u001b[0;32mfrom\u001b[0m \u001b[0minfonet\u001b[0m\u001b[0;34m.\u001b[0m\u001b[0mtagger\u001b[0m \u001b[0;32mimport\u001b[0m \u001b[0mextract_mentions\u001b[0m\u001b[0;34m,\u001b[0m \u001b[0mextract_all_mentions\u001b[0m\u001b[0;34m\u001b[0m\u001b[0m\n",
      "\u001b[0;31mImportError\u001b[0m: cannot import name compute_tag_map"
     ]
    }
   ],
   "source": [
    "from infonet.vocab import Vocab\n",
    "from infonet.preprocess import compute_flat_mention_labels, Entity_BIO_map, BIO_map, typed_BIO_map\n",
    "from infonet.util import convert_sequences, SequenceIterator\n",
    "from infonet.tagger import extract_mentions, extract_all_mentions"
   ]
  },
  {
   "cell_type": "markdown",
   "metadata": {},
   "source": [
    "# Loading data"
   ]
  },
  {
   "cell_type": "code",
   "execution_count": 4,
   "metadata": {
    "collapsed": true
   },
   "outputs": [],
   "source": [
    "data = json.loads(io.open('../data/ace_05_head_yaat.json', 'r').read())"
   ]
  },
  {
   "cell_type": "code",
   "execution_count": 23,
   "metadata": {
    "collapsed": false
   },
   "outputs": [],
   "source": [
    "# get vocabs\n",
    "token_vocab = Vocab(min_count=2)\n",
    "for doc in data.values():\n",
    "    token_vocab.add(doc['tokens'])\n",
    "\n",
    "boundary_vocab = Vocab(min_count=0)\n",
    "for doc in data.values():\n",
    "    doc['boundary_labels'] = compute_flat_mention_labels(doc, typed_BIO_map)\n",
    "    boundary_vocab.add(doc['boundary_labels'])\n",
    "    \n",
    "def compute_tag_map(boundary_vocab):\n",
    "    \"\"\" Automatically computes the data needed for decoding mentions\n",
    "    from tags, given the tagset we are using\n",
    "    \"\"\"\n",
    "    tag_map = {\n",
    "        'start_tags':tuple([ t for t in boundary_vocab.vocabset\n",
    "                             if t.startswith(('B', 'U'))]),\n",
    "        'in_tags':tuple([ t for t in boundary_vocab.vocabset\n",
    "                             if t.startswith(('B', 'U', 'I', 'L'))]),\n",
    "        'out_tags':tuple([ t for t in boundary_vocab.vocabset\n",
    "                             if t.startswith('O')]),\n",
    "        'type_map':{t:t.split('-')[1]\n",
    "                    if len(t.split('-')) > 1\n",
    "                    else None\n",
    "                    for t in boundary_vocab.vocabset\n",
    "                    }\n",
    "    }\n",
    "    return tag_map\n",
    "tag_map = compute_tag_map(boundary_vocab)"
   ]
  },
  {
   "cell_type": "code",
   "execution_count": 6,
   "metadata": {
    "collapsed": true
   },
   "outputs": [],
   "source": [
    "def print_doc_with_spans(doc):\n",
    "    doc_str = ''\n",
    "    nodes = [ ann for ann in doc['annotations'] if ann['ann-type']=='node']\n",
    "    ann_starts = set([s['ann-span'][0] for s in nodes])\n",
    "    ann_ends = set([s['ann-span'][1] for s in nodes])\n",
    "    ann_types = {s['ann-span'][1]:s['type'] for s in nodes}\n",
    "    for i, token in enumerate(doc['tokens']):\n",
    "        if i in ann_starts:\n",
    "            doc_str += '['\n",
    "        doc_str += token\n",
    "        if i+1 in ann_ends:\n",
    "            doc_str += ']'\n",
    "            doc_str += '({}:{})'.format(ann_types[i+1], i+1)\n",
    "        doc_str += ' '\n",
    "    print doc_str"
   ]
  },
  {
   "cell_type": "code",
   "execution_count": 319,
   "metadata": {
    "collapsed": true
   },
   "outputs": [],
   "source": [
    "# # all mapping schemes assume the annotation spans correspond with python indexing\n",
    "# # eg ann-span = [0,2] means the interval [0,2) or tokens[0:2]\n",
    "\n",
    "# def Entity_BIO_map(mention_labels, annotation):\n",
    "#     \"\"\" Uses BIO scheme (untyped) for entities only \"\"\"\n",
    "#     if annotation['node-type'] == 'entity':\n",
    "#         left, right = tuple(annotation['ann-span'])\n",
    "#         mention_labels[left] = 'B'\n",
    "#         for i in range(1, right-left):\n",
    "#             mention_labels[left+i] = 'I'\n",
    "#     return mention_labels\n",
    "\n",
    "# def Entity_typed_BIO_map(mention_labels, annotation):\n",
    "#     \"\"\" Uses BIO scheme (typed) for entities only \"\"\"\n",
    "#     if annotation['node-type'] == 'entity':\n",
    "#         mention_type = annotation['type']\n",
    "#         left, right = tuple(annotation['ann-span'])\n",
    "#         mention_labels[left] = 'B-'+mention_type\n",
    "#         for i in range(1, right-left):\n",
    "#             mention_labels[left+i] = 'I-'+mention_type\n",
    "#     return mention_labels\n",
    "\n",
    "# def Entity_BILOU_map(mention_labels, annotation):\n",
    "#     \"\"\" Uses BILOU scheme (untyped) for entities only \"\"\"\n",
    "#     if annotation['node-type'] == 'entity':\n",
    "#         left, right = tuple(annotation['ann-span'])\n",
    "#         if left == (right-1):\n",
    "#             mention_labels[left] = 'U'\n",
    "#         else:\n",
    "#             mention_labels[left] = 'B'\n",
    "#             for i in range(1, right-left-1):\n",
    "#                 mention_labels[left+i] = 'I'\n",
    "#             mention_labels[right-1] = 'L'\n",
    "#     return mention_labels\n",
    "\n",
    "# def Entity_typed_BILOU_map(mention_labels, annotation):\n",
    "#     \"\"\" Uses BILOU scheme (typed) for entities only \"\"\"\n",
    "#     if annotation['node-type'] == 'entity':\n",
    "#         mention_type = annotation['type']\n",
    "#         left, right = tuple(annotation['ann-span'])\n",
    "#         if left == (right-1):\n",
    "#             mention_labels[left] = 'U-'+mention_type\n",
    "#         else:\n",
    "#             mention_labels[left] = 'B-'+mention_type\n",
    "#             for i in range(1, right-left-1):\n",
    "#                 mention_labels[left+i] = 'I-'+mention_type\n",
    "#             mention_labels[right-1] = 'L-'+mention_type\n",
    "#     return mention_labels\n",
    "\n",
    "# def compute_flat_mention_labels(doc, scheme_func=Entity_BIO_map):\n",
    "#     \"\"\" Takes a YAAT style document and computes token-level mention label list.\n",
    "\n",
    "#     This function only considers the outermost spans (as per ACE evaluation)\n",
    "#     by editing the mentions of shortest span-length to longest.\n",
    "#     Thus wider mentions will override narrower nested mentions.\n",
    "\n",
    "#     Example:\n",
    "#     --------\n",
    "\n",
    "#     tokens: ['part', 'of' , 'mention', '.', 'not', 'part']\n",
    "#     with annotation: {'ann-type':'node',\n",
    "#                       'node-type':'entity',\n",
    "#                       'ann-span':[0,2]}\n",
    "#     with scheme: BIO\n",
    "\n",
    "#     yields:\n",
    "#     mention_labels = ['B', 'I', 'I', 'O', 'O', 'O']\n",
    "#     \"\"\"\n",
    "#     mention_labels = ['O' for token in doc['tokens']]\n",
    "#     mentions = [ annotation for annotation in doc['annotations'] if annotation['ann-type'] == 'node' ]\n",
    "#     # create annotations from shortest to longest, so that largest spans overwrite smaller\n",
    "#     annotations = sorted(mentions, key=lambda x:x['ann-span'][1]-x['ann-span'][0])\n",
    "#     # make sure there are no overlapping mentions\n",
    "#     def is_bad_overlap(x,y):\n",
    "#         # can't bad overlap if either boundaries are same\n",
    "#         # case: [ )   or  [ )\n",
    "#         #       [  )     [  )\n",
    "#         if (x[0] == y[0]) or (x[1] == y[1]):\n",
    "#             return False\n",
    "#         # only check from left to right\n",
    "#         l, r = (x,y) if x[0] < y[0] else (y,x)\n",
    "#         # case [  )    (what we're looking for)\n",
    "#         #        [  )\n",
    "#         if l[1] > r[0] and l[1] < r[1]:\n",
    "#             return True\n",
    "#         # case [   )  (true nesting is ok)\n",
    "#         #        [)\n",
    "#         else:\n",
    "#             return False\n",
    "\n",
    "#     bad = False\n",
    "#     for i, a in enumerate(annotations):\n",
    "#         for b in annotations[i+1:]:\n",
    "#             if is_bad_overlap(a['ann-span'], b['ann-span']):\n",
    "#                 bad = True\n",
    "#                 print \"Bad overlap\", (a['ann-span'],b['ann-span'])\n",
    "#     # assert not any([ is_bad_overlap(a['ann-span'], b['ann-span'])\n",
    "#     #                  for i, a in enumerate(annotations)\n",
    "#     #                  for b in annotations[i+1:] ])\n",
    "\n",
    "#     for annotation in annotations:\n",
    "#         mention_labels = scheme_func(mention_labels, annotation)\n",
    "#     return bad#mention_labels\n"
   ]
  },
  {
   "cell_type": "code",
   "execution_count": 320,
   "metadata": {
    "collapsed": false,
    "scrolled": true
   },
   "outputs": [],
   "source": [
    "# for i, doc in enumerate(data.values()):\n",
    "#     if compute_flat_mention_labels(doc):\n",
    "#         print i, '-'*80\n",
    "# #         print '.'*(50)\n",
    "#         print_doc_with_spans(doc)\n",
    "# #         break"
   ]
  },
  {
   "cell_type": "code",
   "execution_count": 12,
   "metadata": {
    "collapsed": false
   },
   "outputs": [
    {
     "data": {
      "text/plain": [
       "6.0"
      ]
     },
     "execution_count": 12,
     "metadata": {},
     "output_type": "execute_result"
    }
   ],
   "source": [
    "from scipy.misc import comb\n",
    "comb(4,2)"
   ]
  },
  {
   "cell_type": "code",
   "execution_count": 17,
   "metadata": {
    "collapsed": false
   },
   "outputs": [
    {
     "data": {
      "text/plain": [
       "(1, 2, 3, 4)"
      ]
     },
     "execution_count": 17,
     "metadata": {},
     "output_type": "execute_result"
    }
   ],
   "source": [
    "(1,2)+(3,4)"
   ]
  },
  {
   "cell_type": "code",
   "execution_count": 56,
   "metadata": {
    "collapsed": false,
    "scrolled": false
   },
   "outputs": [
    {
     "name": "stdout",
     "output_type": "stream",
     "text": [
      "Done\n"
     ]
    }
   ],
   "source": [
    "def resolve_annotations(annotations):\n",
    "    \"\"\" Remove any duplicate, nested, or overlapping mentions and their relations.\"\"\"\n",
    "    def overlaps(node, qnode):\n",
    "        nspan = node['ann-span']\n",
    "        qspan = qnode['ann-span']\n",
    "        if nspan[0] == qspan[0] or nspan[1] == qspan[1]: # sharing a boundary => overlap\n",
    "            return True\n",
    "        elif nspan[0] > qspan[0] and nspan[0] < qspan[1]: # [  (  ]\n",
    "            return True\n",
    "        elif (nspan[1]-1) > qspan[0] and nspan[1] < qspan[1]: # [  )  ] \n",
    "            return True\n",
    "        else:\n",
    "            return False\n",
    "        \n",
    "    # sort all of the mentions by width\n",
    "    # and resolve them by preference to width\n",
    "    # so if we find a mention that is within or overlaps \n",
    "    # a mention we've previously seen, omit it\n",
    "    sorted_nodes = sorted([ a for a in annotations \n",
    "                           if a['ann-type'] ==u'node'],\n",
    "                           key=lambda x: x['ann-span'][1] - x['ann-span'][0],\n",
    "                           reverse=True)\n",
    "    resolved_annotations = []\n",
    "    for node in sorted_nodes:\n",
    "        for qnode in resolved_annotations:\n",
    "            if not overlaps(node, qnode):\n",
    "                resolved_annotations.append(node)\n",
    "                \n",
    "    # now only include relations whose constiuent mentions are still around\n",
    "    node_id_set = set([node['ann-uid'] for node in resolved_annotations ])\n",
    "    for ann in annotations:\n",
    "        if ann['ann-type'] == u'edge':\n",
    "            if ann['ann-left'] in node_id_set and ann['ann-right'] in node_id_set:\n",
    "                resolved_annotations.append(ann)\n",
    "    return resolved_annotations\n",
    "\n",
    "def compute_mentions(doc, fine_grained=False):\n",
    "    \"\"\" Compute gold mentions as (*span, type) from yaat.\n",
    "\n",
    "    Return them sorted lexicographicaly. \n",
    "    This is necessary because relations are calculated by forward choosing\n",
    "    which requires that the mentions be ordered so no relations are omitted.\"\"\"\n",
    "    mentions = []\n",
    "    for ann in doc['annotations']:\n",
    "        if ann['ann-type'] == u'node':\n",
    "            mention_type = ann['node-type']+':'+ann['type']\n",
    "            if fine_grained:\n",
    "                mention_type += ':'+ann['subtype']\n",
    "            mentions.append((ann['ann-span'][0], ann['ann-span'][1], mention_type))\n",
    "    return sorted(mentions, key=lambda x: x[:2])\n",
    "\n",
    "def compute_relations(doc, fine_grained=False):\n",
    "    relations = []\n",
    "    id2ann = { ann['ann-uid']:ann for ann in doc['annotations']}\n",
    "    for ann in doc['annotations']:\n",
    "        if ann['ann-type'] == u'edge':\n",
    "            left_span = id2ann[ann['ann-left']]['ann-span']\n",
    "            right_span = id2ann[ann['ann-right']]['ann-span']\n",
    "            rel_type = ann['edge-type']+':'+ann['type']\n",
    "            if fine_grained:\n",
    "                rel_type += ':'+ann['subtype']\n",
    "            relations.append((left_span[0], left_span[1], right_span[0], right_span[1], rel_type))\n",
    "    return relations\n",
    "\n",
    "# get vocabs\n",
    "token_vocab = Vocab(min_count=2)\n",
    "for doc in data.values():\n",
    "    token_vocab.add(doc['tokens'])\n",
    "\n",
    "boundary_vocab = Vocab(min_count=0)\n",
    "mention_vocab = Vocab(min_count=0)\n",
    "relation_vocab = Vocab(min_count=0)\n",
    "for doc in data.values():\n",
    "    doc['annotations'] = resolve_annotations(doc['annotations'])\n",
    "    \n",
    "    # boundary labels\n",
    "    doc['boundary_labels'] = compute_flat_mention_labels(doc, typed_BIO_map)\n",
    "    boundary_vocab.add(doc['boundary_labels'])\n",
    "    \n",
    "    # mention labels\n",
    "    doc['mentions'] = compute_mentions(doc)\n",
    "    mention_vocab.add([m[2] for m in doc['mentions']])\n",
    "    \n",
    "    # relation labels\n",
    "    relations = compute_relations(doc)\n",
    "    # add in NULL relations for all mention pairs that don't have a relation\n",
    "    rel_mentions = set([ r[:4] for r in relations])\n",
    "    seen_mentions = set()\n",
    "    n_null, n_real = 0, 0\n",
    "    for i, m1 in enumerate(mentions):\n",
    "        for m2 in mentions[i+1:]:\n",
    "            r = m1[:2] + m2[:2]\n",
    "            if r not in rel_mentions:\n",
    "                relations.append(r+(u'--NULL--',))\n",
    "                n_null += 1\n",
    "            else:\n",
    "                n_real += 1\n",
    "                seen_mentions |= set([r])\n",
    "    assert n_real+n_null == int(comb(len(mentions), 2)), \"There should always be m choose 2 relations\"\n",
    "    doc['relations'] = relations\n",
    "    relation_vocab.add([r[4] for r in doc['relations']]) \n",
    "    \n",
    "# mention_vocab = Vocab(min_count=0)\n",
    "# relation_vocab = Vocab(min_count=0)\n",
    "# for i, doc in enumerate(data.values()[:]):\n",
    "#     s = ''\n",
    "#     s += '{}:: '.format(i)\n",
    "# #     for t, b in zip(doc['tokens'], doc['boundary_labels']):\n",
    "# #         print t,b\n",
    "#     # compute the mentions from the actual annotations\n",
    "#     mentions = compute_mentions(doc)\n",
    "#     # omit mentions that were dropped by boundaries\n",
    "#     gold_mention_boundaries = [ m[:2] for m in extract_mentions(doc['boundary_labels'], **tag_map)]\n",
    "# #     print len(gold_mention_boundaries)\n",
    "# #     print len([m[:2] for m in mentions])\n",
    "#     s += '{} m before, '.format(len(mentions))\n",
    "#     mentions = [ m for m in mentions if m[:2] in gold_mention_boundaries]\n",
    "#     diff = len(mentions) - len(set([m[:2] for m in mentions]))\n",
    "#     if diff:\n",
    "#         print \"\\t {}:: {} duplicate mention boundaries\".format(i, diff)\n",
    "# #     print set([m[2] for m in mentions]),\n",
    "# #     print len(mentions)\n",
    "#     s += '{} m after, '.format(len(mentions))\n",
    "#     doc['mentions'] = mentions\n",
    "#     mention_vocab.add([ m[2] for m in doc['mentions'] ])\n",
    "    \n",
    "#     # compute the relations from the actual annotations\n",
    "#     relations = compute_relations(doc)\n",
    "#     s += '{} r before, '.format(len(relations))\n",
    "#     # omit any relations that don't have both mentions\n",
    "#     relations = [ r for r in relations \n",
    "#                  if ((r[:2] in gold_mention_boundaries)\n",
    "#                      and (r[2:4] in gold_mention_boundaries))]\n",
    "#     assert all([r[0] <= r[2] and r[1] <= r[3] for r in relations])\n",
    "#     s += '{} r after, '.format(len(relations))\n",
    "#     not_null = len(relations)\n",
    "    \n",
    "#     # add in NULL relations for all gold mention pairs that don't have a relation\n",
    "#     rel_mentions = set([ r[:4] for r in relations])\n",
    "#     seen_mentions = set()\n",
    "#     n_added, n_skipped = 0, 0\n",
    "#     for i, m1 in enumerate(mentions):\n",
    "#         for m2 in mentions[i+1:]:\n",
    "#             r = m1[:2] + m2[:2]\n",
    "#             if r not in rel_mentions:\n",
    "#                 relations.append(r+(u'--NULL--',))\n",
    "#                 n_added += 1\n",
    "#             else:\n",
    "#                 n_skipped += 1\n",
    "#                 seen_mentions |= set([r])\n",
    "#     s += '{} r total, '.format(len(relations))\n",
    "#     s += '{} nCr '.format(int(comb(len(mentions), 2))) \n",
    "#     s += '({} added, {} skipped) '.format(n_added, n_skipped)\n",
    "# #     s += '{} total'.format(n_added+n_skipped)\n",
    "#     if int(comb(len(mentions), 2)) != len(relations):\n",
    "#         print s\n",
    "#         print '\\t', rel_mentions - seen_mentions\n",
    "#         print '\\t', not_null, len(rel_mentions), len(seen_mentions)\n",
    "# #         print mentions\n",
    "# #     print 'not_null {0:.2f}%'.format(not_null/float(len(relations))*100.)\n",
    "    \n",
    "    \n",
    "# #     if i == 41:\n",
    "# #         print mentions,\n",
    "# #         print_doc_with_spans(doc)\n",
    "#     doc['relations'] = relations\n",
    "#     relation_vocab.add([r[4] for r in doc['relations']])    \n",
    "# relation_vocab.add([u'--Not-Related--'])\n",
    "print 'Done'"
   ]
  },
  {
   "cell_type": "code",
   "execution_count": 322,
   "metadata": {
    "collapsed": false
   },
   "outputs": [
    {
     "name": "stdout",
     "output_type": "stream",
     "text": [
      "14 44181\n",
      "set([u'entity:WEA', u'value:Job-Title', u'entity:FAC', u'value:Contact-Info', u'entity:VEH', u'entity:PER', '<PAD>', u'entity:LOC', '<UNK>', u'value:TIME', u'value:Numeric', u'entity:ORG', u'entity:GPE', u'event-anchor:Justice'])\n",
      "--------------------------------------------------\n",
      "16 3083391\n",
      "set([u'relation:--PHYS->', u'--NULL--', u'relation:--PER-SOC->', u'relation:<-ORG-AFF--', u'relation:--ORG-AFF->', u'relation:<-GEN-AFF--', u'relation:<-PHYS--', u'relation:--GEN-AFF->', u'relation:--ART->', u'relation:<-ART--', '<PAD>', u'relation:<-PART-WHOLE--', u'coreference:--SameAs--', u'relation:--PART-WHOLE->', u'relation:<-PER-SOC--', '<UNK>'])\n"
     ]
    }
   ],
   "source": [
    "print mention_vocab.v, mention_vocab.n\n",
    "print mention_vocab.vocabset\n",
    "print '-'*50\n",
    "print relation_vocab.v, relation_vocab.n\n",
    "print relation_vocab.vocabset"
   ]
  },
  {
   "cell_type": "code",
   "execution_count": 323,
   "metadata": {
    "collapsed": false
   },
   "outputs": [
    {
     "name": "stdout",
     "output_type": "stream",
     "text": [
      "428 train, 53 validation, and 54 test documents\n"
     ]
    }
   ],
   "source": [
    "# create datasets\n",
    "test = .1\n",
    "valid = .1\n",
    "dataset = [(doc['tokens'], doc['boundary_labels'], doc['mentions'], doc['relations']) for doc in data.values()]\n",
    "npr.shuffle(dataset)\n",
    "test = 1-test # eg, .1 -> .9\n",
    "valid = test-valid # eg, .1 -> .9\n",
    "valid_split = int(len(dataset)*valid)\n",
    "test_split = int(len(dataset)*test)\n",
    "dataset_train, dataset_valid, dataset_test = (dataset[:valid_split], \n",
    "                                              dataset[valid_split:test_split], \n",
    "                                              dataset[test_split:])\n",
    "\n",
    "x_train = [d[0] for d in dataset_train]\n",
    "b_train = [d[1] for d in dataset_train]\n",
    "m_train = [d[2] for d in dataset_train]\n",
    "r_train = [d[3] for d in dataset_train]\n",
    "\n",
    "x_valid = [d[0] for d in dataset_valid]\n",
    "b_valid = [d[1] for d in dataset_valid]\n",
    "m_valid = [d[2] for d in dataset_valid]\n",
    "r_valid = [d[3] for d in dataset_valid]\n",
    "\n",
    "x_test = [d[0] for d in dataset_test]\n",
    "b_test = [d[1] for d in dataset_test]\n",
    "m_test = [d[2] for d in dataset_test]\n",
    "r_test = [d[3] for d in dataset_test]\n",
    "\n",
    "print '{} train, {} validation, and {} test documents'.format(len(x_train), len(x_valid), len(x_test))"
   ]
  },
  {
   "cell_type": "code",
   "execution_count": 324,
   "metadata": {
    "collapsed": false
   },
   "outputs": [
    {
     "name": "stdout",
     "output_type": "stream",
     "text": [
      "Setting up... Done\n"
     ]
    }
   ],
   "source": [
    "batch_size = 5\n",
    "# convert dataset to idxs\n",
    "# before we do conversions, we need to drop unfrequent words from the vocab and reindex it\n",
    "print \"Setting up...\",\n",
    "token_vocab.drop_infrequent()\n",
    "boundary_vocab.drop_infrequent()\n",
    "mention_vocab.drop_infrequent()\n",
    "relation_vocab.drop_infrequent()\n",
    "\n",
    "ix_train = convert_sequences(x_train, token_vocab.idx)\n",
    "ix_valid = convert_sequences(x_valid, token_vocab.idx)\n",
    "ix_test = convert_sequences(x_test, token_vocab.idx)\n",
    "ib_train = convert_sequences(b_train, boundary_vocab.idx)\n",
    "ib_valid = convert_sequences(b_valid, boundary_vocab.idx)\n",
    "ib_test = convert_sequences(b_test, boundary_vocab.idx)\n",
    "convert_mention = lambda x:x[:-1]+(mention_vocab.idx(x[-1]),)\n",
    "im_train = convert_sequences(m_train, convert_mention)\n",
    "im_valid = convert_sequences(m_valid, convert_mention)\n",
    "im_test = convert_sequences(m_test, convert_mention)\n",
    "convert_relation = lambda x:x[:-1]+(relation_vocab.idx(x[-1]),)\n",
    "ir_train = convert_sequences(r_train, convert_relation)\n",
    "ir_valid = convert_sequences(r_valid, convert_relation)\n",
    "ir_test = convert_sequences(r_test, convert_relation)\n",
    "\n",
    "# data\n",
    "train_iter = SequenceIterator(zip(ix_train, ib_train, im_train, ir_train), batch_size, repeat=True)\n",
    "valid_iter = SequenceIterator(zip(ix_valid, ib_valid, im_valid, ir_valid), batch_size, repeat=True)\n",
    "print \"Done\""
   ]
  },
  {
   "cell_type": "markdown",
   "metadata": {},
   "source": [
    "# Building Model"
   ]
  },
  {
   "cell_type": "markdown",
   "metadata": {},
   "source": [
    "### This is a custom softmax cross entropy function that allows the instances to be weighted along the batch"
   ]
  },
  {
   "cell_type": "code",
   "execution_count": null,
   "metadata": {
    "collapsed": true
   },
   "outputs": [],
   "source": []
  },
  {
   "cell_type": "code",
   "execution_count": 325,
   "metadata": {
    "collapsed": false
   },
   "outputs": [],
   "source": [
    "import numpy\n",
    "import six\n",
    "\n",
    "import chainer\n",
    "from chainer import cuda\n",
    "from chainer import function\n",
    "from chainer.functions.activation import log_softmax\n",
    "from chainer.utils import type_check\n",
    "\n",
    "\n",
    "class BatchWeightedSoftmaxCrossEntropy(function.Function):\n",
    "\n",
    "    \"\"\"Softmax activation followed by a cross entropy loss.\"\"\"\n",
    "\n",
    "    ignore_label = -1\n",
    "    normalize = True\n",
    "\n",
    "    def __init__(self, use_cudnn=True, normalize=True, cache_score=True,\n",
    "                 class_weight=None, instance_weight=None):\n",
    "        self.use_cudnn = use_cudnn\n",
    "        self.normalize = normalize\n",
    "        self.cache_score = cache_score\n",
    "        self.class_weight = class_weight\n",
    "        self.instance_weight = instance_weight\n",
    "        if class_weight is not None:\n",
    "            if self.class_weight.ndim != 1:\n",
    "                raise ValueError('class_weight.ndim should be 1')\n",
    "            if self.class_weight.dtype.kind != 'f':\n",
    "                raise ValueError('The dtype of class_weight should be \\'f\\'')\n",
    "            if isinstance(self.class_weight, chainer.Variable):\n",
    "                raise ValueError('class_weight should be a numpy.ndarray or '\n",
    "                                 'cupy.ndarray, not a chainer.Variable')\n",
    "        if instance_weight is not None:\n",
    "            if self.instance_weight.ndim != 1:\n",
    "                raise ValueError('class_weight.ndim should be 1')\n",
    "            if self.instance_weight.dtype.kind != 'f':\n",
    "                raise ValueError('The dtype of class_weight should be \\'f\\'')\n",
    "            if isinstance(self.instance_weight, chainer.Variable):\n",
    "                raise ValueError('instance_weight should be a numpy.ndarray or '\n",
    "                                 'cupy.ndarray, not a chainer.Variable')\n",
    "\n",
    "    def check_type_forward(self, in_types):\n",
    "        type_check.expect(in_types.size() == 2)\n",
    "        x_type, t_type = in_types\n",
    "\n",
    "        type_check.expect(\n",
    "            x_type.dtype.kind == 'f',\n",
    "            t_type.dtype == numpy.int32,\n",
    "            t_type.ndim == x_type.ndim - 1,\n",
    "\n",
    "            x_type.shape[0] == t_type.shape[0],\n",
    "            x_type.shape[2:] == t_type.shape[1:],\n",
    "        )\n",
    "\n",
    "    def _check_input_values(self, x, t):\n",
    "        if not (((0 <= t) &\n",
    "                 (t < x.shape[1])) |\n",
    "                (t == self.ignore_label)).all():\n",
    "            msg = ('Each label `t` need to satisfy '\n",
    "                   '`0 <= t < x.shape[1] or t == %d`' % self.ignore_label)\n",
    "            raise ValueError(msg)\n",
    "\n",
    "    def forward_cpu(self, inputs):\n",
    "        x, t = inputs\n",
    "        if chainer.is_debug():\n",
    "            self._check_input_values(x, t)\n",
    "\n",
    "        log_y = log_softmax._log_softmax(x, self.use_cudnn)\n",
    "        if self.cache_score:\n",
    "            self.y = numpy.exp(log_y)\n",
    "        if self.class_weight is not None:\n",
    "            shape = [1 if d != 1 else -1 for d in six.moves.range(x.ndim)]\n",
    "            log_y *= numpy.broadcast_to(\n",
    "                self.class_weight.reshape(shape), x.shape)\n",
    "        log_yd = numpy.rollaxis(log_y, 1)\n",
    "        log_yd = log_yd.reshape(len(log_yd), -1)\n",
    "        log_p = log_yd[numpy.maximum(t.ravel(), 0), numpy.arange(t.size)]\n",
    "\n",
    "        # deal with the case where the SoftmaxCrossEntropy is\n",
    "        # unpickled from the old version\n",
    "        if self.normalize:\n",
    "            count = (t != self.ignore_label).sum()\n",
    "        else:\n",
    "            count = len(x)\n",
    "        if self.instance_weight is not None:\n",
    "            self._coeff = 1. / max(np.sum(self.instance_weight), 1)\n",
    "            y = (log_p * (t.ravel() != self.ignore_label))\n",
    "            y = self.instance_weight * y\n",
    "            y = (-self._coeff) * y.sum(keepdims=True)\n",
    "        else:\n",
    "            self._coeff = 1.0 / max(count, 1)\n",
    "            y = (log_p * (t.ravel() != self.ignore_label)).sum(keepdims=True) \\\n",
    "                * (-self._coeff)\n",
    "        return y.reshape(()),\n",
    "\n",
    "    def forward_gpu(self, inputs):\n",
    "        raise NotImplementedError, \"No GPU version of this yet\"\n",
    "        cupy = cuda.cupy\n",
    "        x, t = inputs\n",
    "        if chainer.is_debug():\n",
    "            self._check_input_values(x, t)\n",
    "\n",
    "        log_y = log_softmax._log_softmax(x, self.use_cudnn)\n",
    "        if self.cache_score:\n",
    "            self.y = cupy.exp(log_y)\n",
    "        if self.class_weight is not None:\n",
    "            shape = [1 if d != 1 else -1 for d in six.moves.range(x.ndim)]\n",
    "            log_y *= cupy.broadcast_to(\n",
    "                self.class_weight.reshape(shape), x.shape)\n",
    "        if self.normalize:\n",
    "            coeff = cupy.maximum(1, (t != self.ignore_label).sum())\n",
    "        else:\n",
    "            coeff = max(1, len(t))\n",
    "        self._coeff = cupy.divide(1.0, coeff, dtype=x.dtype)\n",
    "\n",
    "        log_y = cupy.rollaxis(log_y, 1, log_y.ndim)\n",
    "        ret = cuda.reduce(\n",
    "            'S t, raw T log_y, int32 n_channel, raw T coeff', 'T out',\n",
    "            't == -1 ? T(0) : log_y[_j * n_channel + t]',\n",
    "            'a + b', 'out = a * -coeff[0]', '0', 'crossent_fwd'\n",
    "        )(t, log_y.reduced_view(), log_y.shape[-1], self._coeff)\n",
    "        return ret,\n",
    "\n",
    "    def backward_cpu(self, inputs, grad_outputs):\n",
    "        x, t = inputs\n",
    "        gloss = grad_outputs[0]\n",
    "        if hasattr(self, 'y'):\n",
    "            y = self.y.copy()\n",
    "        else:\n",
    "            y = log_softmax._log_softmax(x, self.use_cudnn)\n",
    "            numpy.exp(y, out=y)\n",
    "        if y.ndim == 2:\n",
    "            gx = y\n",
    "            gx[numpy.arange(len(t)), numpy.maximum(t, 0)] -= 1\n",
    "            if self.class_weight is not None:\n",
    "                shape = [1 if d != 1 else -1 for d in six.moves.range(x.ndim)]\n",
    "                c = numpy.broadcast_to(\n",
    "                    self.class_weight.reshape(shape), x.shape)\n",
    "                c = c[numpy.arange(len(t)), numpy.maximum(t, 0)]\n",
    "                gx *= numpy.broadcast_to(numpy.expand_dims(c, 1), gx.shape)\n",
    "            gx *= (t != self.ignore_label).reshape((len(t), 1))\n",
    "        else:\n",
    "            # in the case where y.ndim is higher than 2,\n",
    "            # we think that a current implementation is inefficient\n",
    "            # because it yields two provisional arrays for indexing.\n",
    "            n_unit = t.size // len(t)\n",
    "            gx = y.reshape(y.shape[0], y.shape[1], -1)\n",
    "            fst_index = numpy.arange(t.size) // n_unit\n",
    "            trd_index = numpy.arange(t.size) % n_unit\n",
    "            gx[fst_index, numpy.maximum(t.ravel(), 0), trd_index] -= 1\n",
    "            if self.class_weight is not None:\n",
    "                shape = [1 if d != 1 else -1 for d in six.moves.range(x.ndim)]\n",
    "                c = numpy.broadcast_to(\n",
    "                    self.class_weight.reshape(shape), x.shape)\n",
    "                c = c.reshape(gx.shape)\n",
    "                c = c[fst_index, numpy.maximum(t.ravel(), 0), trd_index]\n",
    "                c = c.reshape(y.shape[0], 1, -1)\n",
    "                gx *= numpy.broadcast_to(c, gx.shape)\n",
    "            gx *= (t != self.ignore_label).reshape((len(t), 1, -1))\n",
    "            gx = gx.reshape(y.shape)\n",
    "        gx *= gloss * self._coeff\n",
    "        gx *= self.instance_weight.reshape((-1,1))\n",
    "        return gx, None\n",
    "\n",
    "    def backward_gpu(self, inputs, grad_outputs):\n",
    "        raise NotImplementedError, \"No gpu version of this yet\"\n",
    "        cupy = cuda.cupy\n",
    "        x, t = inputs\n",
    "        if hasattr(self, 'y'):\n",
    "            y = self.y\n",
    "        else:\n",
    "            y = log_softmax._log_softmax(x, self.use_cudnn)\n",
    "            cupy.exp(y, out=y)\n",
    "        gloss = grad_outputs[0]\n",
    "        n_unit = t.size // len(t)\n",
    "        coeff = gloss * self._coeff\n",
    "        if self.class_weight is None:\n",
    "            gx = cuda.elementwise(\n",
    "                'T y, S t, raw T coeff, S n_channel, S n_unit',\n",
    "                'T gx',\n",
    "                '''\n",
    "                    const int c = (i / n_unit % n_channel);\n",
    "                    gx = (t == -1) ? 0 : (coeff[0] * (y - (c == t)));\n",
    "                ''',\n",
    "                'softmax_crossent_bwd')(\n",
    "                    y, cupy.expand_dims(t, 1), coeff, x.shape[1], n_unit)\n",
    "        else:\n",
    "            gx = cuda.elementwise(\n",
    "                'T y, raw T w, S t, raw T coeff, S n_channel, S n_unit',\n",
    "                'T gx',\n",
    "                '''\n",
    "                    const int c = (i / n_unit % n_channel);\n",
    "                    gx = t == -1 ? 0 : coeff[0] * (y - (c == t)) * w[t];\n",
    "                ''',\n",
    "                'softmax_crossent_bwd')(\n",
    "                    y, self.class_weight, cupy.expand_dims(t, 1), coeff,\n",
    "                    x.shape[1], n_unit)\n",
    "        return gx, None\n",
    "\n",
    "\n",
    "def batch_weighted_softmax_cross_entropy(\n",
    "        x, t, use_cudnn=True, normalize=True, cache_score=True,\n",
    "        class_weight=None, instance_weight=None):\n",
    "    \"\"\"Computes cross entropy loss for pre-softmax activations.\n",
    "\n",
    "    Args:\n",
    "        x (~chainer.Variable): Variable holding a multidimensional array whose\n",
    "            element indicates unnormalized log probability: the first axis of\n",
    "            the variable represents the number of samples, and the second axis\n",
    "            represents the number of classes. While this function computes\n",
    "            a usual softmax cross entropy if the number of dimensions is equal\n",
    "            to 2, it computes a cross entropy of the replicated softmax if the\n",
    "            number of dimensions is greater than 2.\n",
    "        t (~chainer.Variable): Variable holding an int32 vector of ground truth\n",
    "            labels. If ``t[i] == -1``, corresponding ``x[i]`` is ignored.\n",
    "        normalize (bool): If ``True``, this function normalizes the cross\n",
    "            entropy loss across all instances. If ``False``, it only\n",
    "            normalizes along a batch size.\n",
    "        cache_score (bool): When it is ``True``, the function stores result\n",
    "            of forward computation to use it on backward computation. It\n",
    "            reduces computational cost though consumes more memory.\n",
    "        class_weight (~numpy.ndarray or ~chainer.cuda.cupy.ndarray): An array\n",
    "            that contains constant weights that will be multiplied with the\n",
    "            loss values along with the second dimension. The shape of this\n",
    "            array should be ``(x.shape[1],)``. If this is not ``None``, each\n",
    "            class weight ``class_weight[i]`` is actually multiplied to\n",
    "            ``y[:, i]`` that is the corresponding log-softmax output of ``x``\n",
    "            and has the same shape as ``x`` before calculating the actual loss\n",
    "            value.\n",
    "\n",
    "    Returns:\n",
    "        Variable: A variable holding a scalar array of the cross entropy loss.\n",
    "\n",
    "    .. note::\n",
    "\n",
    "       This function is differentiable only by ``x``.\n",
    "\n",
    "    \"\"\"\n",
    "    return BatchWeightedSoftmaxCrossEntropy(\n",
    "        use_cudnn, normalize, cache_score, class_weight, instance_weight)(x, t)"
   ]
  },
  {
   "cell_type": "code",
   "execution_count": 205,
   "metadata": {
    "collapsed": false
   },
   "outputs": [
    {
     "name": "stdout",
     "output_type": "stream",
     "text": [
      "-0.0\n"
     ]
    }
   ],
   "source": [
    "t = ch.Variable(np.array([0,1,1], dtype=np.int32))\n",
    "x = ch.Variable(np.array([[1., -1.],\n",
    "                          [-1., 1.],\n",
    "                          [1., -1.]], dtype=np.float32))\n",
    "instance_weight = np.array([0., 0., 0.])\n",
    "print batch_weighted_softmax_cross_entropy(x,t, instance_weight=instance_weight).data"
   ]
  },
  {
   "cell_type": "code",
   "execution_count": 337,
   "metadata": {
    "collapsed": false
   },
   "outputs": [],
   "source": [
    "from infonet.tagger import Tagger, extract_all_mentions\n",
    "\n",
    "class Extractor(ch.Chain):\n",
    "    def __init__(self, \n",
    "                 tagger,\n",
    "                 n_mention_class,\n",
    "                 n_relation_class,\n",
    "                 lstm_size=50,\n",
    "                 start_tags=(2,),\n",
    "                 in_tags=(1,2), \n",
    "                 out_tags=(0,),\n",
    "                 max_rel_dist=10000):\n",
    "        super(Extractor, self).__init__(\n",
    "            tagger=tagger,\n",
    "            lstm = ch.links.LSTM(tagger.lstm_size, lstm_size),\n",
    "            f_m=ch.links.Linear(lstm_size, n_mention_class),\n",
    "            f_r=ch.links.Linear(2*lstm_size, n_relation_class)\n",
    "        )\n",
    "        # self.f_m.W.data = npr.randint((feature_size, n_mention_class))\n",
    "        self.start_tags = start_tags\n",
    "        self.in_tags = in_tags\n",
    "        self.out_tags = out_tags\n",
    "        self.max_rel_dist = max_rel_dist\n",
    "        \n",
    "    def _extract_graph(self, tagger_preds, tagger_features):\n",
    "        # convert from time-major to batch-major\n",
    "        tagger_preds = ch.functions.transpose_sequence(tagger_preds)\n",
    "        tagger_features = ch.functions.transpose_sequence(tagger_features)\n",
    "        \n",
    "        # extract the mentions and relations for each doc\n",
    "        all_boundaries = extract_all_mentions(tagger_preds, \n",
    "                                              start_tags=self.start_tags,\n",
    "                                              in_tags=self.in_tags, \n",
    "                                              out_tags=self.out_tags)\n",
    "        all_mentions = []\n",
    "        all_mention_spans = []\n",
    "        all_left_mentions = []\n",
    "        all_right_mentions = []\n",
    "        all_relation_spans = []\n",
    "        all_dists = []\n",
    "        for s, (boundaries, seq, features) in enumerate(zip(all_boundaries, tagger_preds, tagger_features)):\n",
    "            mentions = []\n",
    "            left_mentions = []  # for relations\n",
    "            right_mentions = [] # for relations\n",
    "            mention_spans = []  \n",
    "            relation_spans = []\n",
    "            dists = []\n",
    "            for i, b in enumerate(boundaries):\n",
    "                mention = ch.functions.sum(features[b[0]:b[1]], axis=0)\n",
    "                mentions.append(mention)\n",
    "                mention_spans.append((b[0], b[1]))\n",
    "                # make a relation of to all previous mentions (M choose 2)\n",
    "                for j in range(i):\n",
    "                    bj = boundaries[j]\n",
    "                    if abs(bj[0] - b[0]) < self.max_rel_dist:\n",
    "                        dists.append(abs(boundaries[j][0] - b[0]))\n",
    "#                         print '\\rDoc: {} R({},{})'.format(s, j, i),\n",
    "                        relation_spans.append((bj[0], bj[1], b[0], b[1]))\n",
    "                        left_mentions.append(mentions[j])\n",
    "                        right_mentions.append(mentions[i])\n",
    "#             print 'Stacking...',\n",
    "            if mentions:\n",
    "                mentions = ch.functions.vstack(mentions)\n",
    "#                 print 'm=',mentions.shape,\n",
    "            all_mentions.append(mentions)\n",
    "            if left_mentions:\n",
    "                left_mentions = ch.functions.vstack(left_mentions)\n",
    "#                 print 'l=',left_mentions.shape,\n",
    "            all_left_mentions.append(left_mentions)\n",
    "            if right_mentions:\n",
    "                right_mentions = ch.functions.vstack(right_mentions)\n",
    "#                 print 'r=',right_mentions.shape,\n",
    "            all_right_mentions.append(right_mentions)\n",
    "    \n",
    "            # extra bookkeeping\n",
    "            all_mention_spans.append(mention_spans)\n",
    "            all_relation_spans.append(relation_spans)\n",
    "            all_dists.append(dists)\n",
    "#             print 'Done'\n",
    "        return (all_mentions, all_left_mentions, all_right_mentions, \n",
    "                all_mention_spans, all_relation_spans, all_dists)\n",
    "    \n",
    "    def __call__(self, x_list):\n",
    "        print \"Tagging...\",\n",
    "        tagger_logits, tagger_features = self.tagger(x_list)\n",
    "        tagger_preds = [ ch.functions.argmax(logit, axis=1) for logit in tagger_logits ]\n",
    "        print \"LSTM...\",\n",
    "        features = [ self.lstm(f) for f in tagger_features ]\n",
    "        start = time.time()\n",
    "        print \"Extacting...\",\n",
    "        mentions, l_mentions, r_mentions, m_spans, r_spans, dists = self._extract_graph(    \n",
    "            tagger_preds, \n",
    "            features)\n",
    "        # concat left and right mentions into one relation vector\n",
    "        print \"Predicting\"\n",
    "        relations = [ ch.functions.concat(m, axis=1) if type(m[0]) is ch.Variable else m[0]\n",
    "                             for m in zip(l_mentions, r_mentions) ]\n",
    "        # score mentions and relations\n",
    "        m_logits = [ self.f_m(m) if type(m) is ch.Variable else []\n",
    "                     for m in mentions ]\n",
    "        r_logits = [ self.f_r(r) if type(r) is ch.Variable else []\n",
    "                     for r in relations ]\n",
    "        return m_logits, r_logits, m_spans, r_spans, dists\n",
    "    \n",
    "    def reset_state(self):\n",
    "        self.tagger.reset_state()\n",
    "        \n",
    "    def predict(self, x_list):\n",
    "        tagger_logits, tagger_features = self.tagger(x_list)\n",
    "        tagger_preds = [ ch.functions.argmax(logit, axis=1) for logit in tagger_logits ]\n",
    "        features = [ self.lstm(f) for f in tagger_features ]\n",
    "\n",
    "        mentions, l_mentions, r_mentions, m_spans, r_spans, dists = self._extract_graph(    \n",
    "            tagger_preds, \n",
    "            features)\n",
    "        # concat left and right mentions into one relation vector\n",
    "        relations = [ ch.functions.concat(m, axis=1) if type(m[0]) is ch.Variable else m[0]\n",
    "                             for m in zip(l_mentions, r_mentions) ]\n",
    "        # score mentions and relations\n",
    "        m_preds = [ ch.functions.argmax(self.f_m(m), axis=1).data if type(m) is ch.Variable else []\n",
    "                     for m in mentions ]\n",
    "        r_preds = [ ch.functions.argmax(self.f_r(r), axis=1).data if type(r) is ch.Variable else []\n",
    "                     for r in relations ]\n",
    "        return m_preds, r_preds, m_spans, r_spans\n",
    "    \n",
    "class ExtractorLoss(ch.Chain):\n",
    "    def __init__(self, extractor):\n",
    "        super(ExtractorLoss, self).__init__(\n",
    "            extractor=extractor\n",
    "        )\n",
    "    \n",
    "    def __call__(self, x_list, gold_b_list, gold_m_list, gold_r_list):\n",
    "        # extract the graph\n",
    "#         print \"Extracting...\"\n",
    "        men_logits, rel_logits, men_spans, rel_spans, dists = self.extractor(x_list)\n",
    "#         print \"Calculating loss\"\n",
    "        # compute loss per sequence\n",
    "        mention_loss = relation_loss = 0\n",
    "        zipped = zip(men_logits, rel_logits, \n",
    "                     men_spans, gold_m_list, \n",
    "                     rel_spans, gold_r_list,\n",
    "                     dists)\n",
    "        for (m_logits, r_logits, m_spans, gold_m, r_spans, gold_r, _) in zipped:\n",
    "            # using gold mentions, construct a matching label and truth array\n",
    "            # that indicates if a mention predictions is correct\n",
    "            # and if so the index of the correct mention type (or 0 if not)\n",
    "            # this is so the loss is only calculated for correct mentions\n",
    "            gold_spans = set([m[:2] for m in gold_m])\n",
    "            span2label = {m[:2]:m[2] for m in gold_m}\n",
    "            correct = []\n",
    "            labels = []\n",
    "            for m in m_spans:\n",
    "                if m in gold_spans:\n",
    "                    correct.append(1.0)\n",
    "                    labels.append(span2label[m])\n",
    "                else:\n",
    "                    correct.append(0.0)\n",
    "                    labels.append(0)\n",
    "            weights = np.array(correct, dtype=np.float32)\n",
    "            labels = np.array(labels, dtype=np.int32)\n",
    "#             print m_logits.shape, correct.shape, labels.shape\n",
    "            mention_loss += batch_weighted_softmax_cross_entropy(m_logits, labels, \n",
    "                                                                 instance_weight=weights)\n",
    "#             xent = ch.functions.softmax_cross_entropy(m_logits , labels)\n",
    "#             zero = ch.Variable(np.zeros_like(xent.data, dtype=np.float32))\n",
    "#             print xent.shape, zero.shape\n",
    "#             mention_loss += ch.functions.sum(ch.functions.where(correct, xent, zero))\n",
    "            \n",
    "            # do the same for relations, but only if BOTH mentions are correct\n",
    "            gold_rel_spans = set([r[:4] for r in gold_r])\n",
    "            rel2label = {r[:4]:r[4] for r in gold_r}\n",
    "#             print set(rel2label.values())\n",
    "            correct = []\n",
    "            labels = []\n",
    "            for r in r_spans:\n",
    "                # NOTE the following conditional is buggy, but it should not be...\n",
    "                # there should be no relations whose spans are not gold mentions\n",
    "#                 if (r[:2] in gold_spans) and (r[2:4] in gold_spans):\n",
    "                if r in gold_rel_spans:\n",
    "                    correct.append(1.0)\n",
    "                    labels.append(rel2label[r[:4]])\n",
    "                else:\n",
    "                    correct.append(0.0)\n",
    "                    labels.append(0.0)\n",
    "            weights = np.array(correct, dtype=np.float32)\n",
    "            labels = np.array(labels, dtype=np.int32)\n",
    "#             print m_logits.shape, correct.shape, labels.shape\n",
    "            relation_loss += batch_weighted_softmax_cross_entropy(r_logits, labels, \n",
    "                                                                  instance_weight=weights)\n",
    "            \n",
    "        return mention_loss + relation_loss\n",
    "            "
   ]
  },
  {
   "cell_type": "markdown",
   "metadata": {},
   "source": [
    "# Train model"
   ]
  },
  {
   "cell_type": "code",
   "execution_count": 338,
   "metadata": {
    "collapsed": false
   },
   "outputs": [
    {
     "name": "stdout",
     "output_type": "stream",
     "text": [
      "{'I': 2, '<PAD>': 0, 'B': 3, 'O': 4, '<UNK>': 1}\n"
     ]
    }
   ],
   "source": [
    "print boundary_vocab._vocab2idx"
   ]
  },
  {
   "cell_type": "code",
   "execution_count": 339,
   "metadata": {
    "collapsed": false
   },
   "outputs": [],
   "source": [
    "embed = ch.functions.EmbedID(token_vocab.v, 50)\n",
    "tagger = Tagger(embed, 50, boundary_vocab.v, dropout=.25, use_crf=True)\n",
    "ch.serializers.load_npz('../best_tagger.model', tagger)\n",
    "start_tags = [boundary_vocab._vocab2idx[s] for s in ('B')]\n",
    "in_tags = [boundary_vocab._vocab2idx[s] for s in ('B', 'I')]\n",
    "out_tags = [boundary_vocab._vocab2idx[s] for s in ('O',)]\n",
    "extractor = Extractor(tagger, \n",
    "                      mention_vocab.v, relation_vocab.v, lstm_size=50,\n",
    "                      start_tags=start_tags, in_tags=in_tags, out_tags=out_tags,\n",
    "                      max_rel_dist=200)\n",
    "extractor_loss = ExtractorLoss(extractor)\n",
    "optimizer = ch.optimizers.Adam(.01)\n",
    "optimizer.setup(extractor_loss)"
   ]
  },
  {
   "cell_type": "code",
   "execution_count": 340,
   "metadata": {
    "collapsed": false
   },
   "outputs": [],
   "source": [
    "from infonet.util import sequences2arrays, print_batch_loss, print_epoch_loss"
   ]
  },
  {
   "cell_type": "code",
   "execution_count": 341,
   "metadata": {
    "collapsed": true
   },
   "outputs": [],
   "source": [
    "import time"
   ]
  },
  {
   "cell_type": "code",
   "execution_count": 342,
   "metadata": {
    "collapsed": true
   },
   "outputs": [],
   "source": [
    "full_times = []\n",
    "cut_times = []\n",
    "full_dists = []\n",
    "cut_dists = []"
   ]
  },
  {
   "cell_type": "code",
   "execution_count": 343,
   "metadata": {
    "collapsed": false,
    "scrolled": true
   },
   "outputs": [
    {
     "name": "stdout",
     "output_type": "stream",
     "text": [
      "7\n",
      "LSTM... Extacting... Predicting\n",
      "Epoch 1 : [=---------] 14.29%, Loss = 373.785889 LSTM... Extacting... Predicting\n",
      "Epoch 1 : [==--------] 28.57%, Loss = 323.326599 LSTM... Extacting... Predicting\n",
      "Epoch 1 : [====------] 42.86%, Loss = 275.725647 LSTM... Extacting... Predicting\n",
      "Epoch 1 : [=====-----] 57.14%, Loss = 224.325607 LSTM... Extacting... Predicting\n",
      "Epoch 1 : [=======---] 71.43%, Loss = 176.327545 LSTM... Extacting... Predicting\n",
      "Epoch 1 : [========--] 85.71%, Loss = 135.407349 LSTM... Extacting... Predicting\n",
      "Epoch 2 : [----------] 0.00%, Loss = 72.277969 LSTM... Extacting... Predicting\n",
      "Epoch 1 : Avg Loss = 225.8824, Validation Loss = 100.4476, 363.0 sec\n",
      "LSTM... Extacting... Predicting\n"
     ]
    },
    {
     "ename": "TypeError",
     "evalue": "numpy.ndarray or cuda.ndarray are expected.\nActual: <type 'list'>",
     "output_type": "error",
     "traceback": [
      "\u001b[0;31m---------------------------------------------------------------------------\u001b[0m",
      "\u001b[0;31mTypeError\u001b[0m                                 Traceback (most recent call last)",
      "\u001b[0;32m<ipython-input-343-522512937031>\u001b[0m in \u001b[0;36m<module>\u001b[0;34m()\u001b[0m\n\u001b[1;32m     27\u001b[0m     \u001b[0;31m# run model\u001b[0m\u001b[0;34m\u001b[0m\u001b[0;34m\u001b[0m\u001b[0m\n\u001b[1;32m     28\u001b[0m     \u001b[0mstart\u001b[0m \u001b[0;34m=\u001b[0m \u001b[0mtime\u001b[0m\u001b[0;34m.\u001b[0m\u001b[0mtime\u001b[0m\u001b[0;34m(\u001b[0m\u001b[0;34m)\u001b[0m\u001b[0;34m\u001b[0m\u001b[0m\n\u001b[0;32m---> 29\u001b[0;31m     \u001b[0mloss\u001b[0m \u001b[0;34m=\u001b[0m \u001b[0mextractor_loss\u001b[0m\u001b[0;34m(\u001b[0m\u001b[0mx_list\u001b[0m\u001b[0;34m,\u001b[0m \u001b[0mb_list\u001b[0m\u001b[0;34m,\u001b[0m \u001b[0mm_list\u001b[0m\u001b[0;34m,\u001b[0m \u001b[0mr_list\u001b[0m\u001b[0;34m)\u001b[0m\u001b[0;34m\u001b[0m\u001b[0m\n\u001b[0m\u001b[1;32m     30\u001b[0m     \u001b[0mforward_times\u001b[0m\u001b[0;34m[\u001b[0m\u001b[0;34m-\u001b[0m\u001b[0;36m1\u001b[0m\u001b[0;34m]\u001b[0m\u001b[0;34m.\u001b[0m\u001b[0mappend\u001b[0m\u001b[0;34m(\u001b[0m\u001b[0mtime\u001b[0m\u001b[0;34m.\u001b[0m\u001b[0mtime\u001b[0m\u001b[0;34m(\u001b[0m\u001b[0;34m)\u001b[0m\u001b[0;34m-\u001b[0m\u001b[0mstart\u001b[0m\u001b[0;34m)\u001b[0m\u001b[0;34m\u001b[0m\u001b[0m\n\u001b[1;32m     31\u001b[0m     \u001b[0mloss_val\u001b[0m \u001b[0;34m=\u001b[0m \u001b[0mloss\u001b[0m\u001b[0;34m.\u001b[0m\u001b[0mdata\u001b[0m\u001b[0;34m\u001b[0m\u001b[0m\n",
      "\u001b[0;32m<ipython-input-337-7d1813a13819>\u001b[0m in \u001b[0;36m__call__\u001b[0;34m(self, x_list, gold_b_list, gold_m_list, gold_r_list)\u001b[0m\n\u001b[1;32m    186\u001b[0m \u001b[0;31m#             print m_logits.shape, correct.shape, labels.shape\u001b[0m\u001b[0;34m\u001b[0m\u001b[0;34m\u001b[0m\u001b[0m\n\u001b[1;32m    187\u001b[0m             relation_loss += batch_weighted_softmax_cross_entropy(r_logits, labels, \n\u001b[0;32m--> 188\u001b[0;31m                                                                   instance_weight=weights)\n\u001b[0m\u001b[1;32m    189\u001b[0m \u001b[0;34m\u001b[0m\u001b[0m\n\u001b[1;32m    190\u001b[0m         \u001b[0;32mreturn\u001b[0m \u001b[0mmention_loss\u001b[0m \u001b[0;34m+\u001b[0m \u001b[0mrelation_loss\u001b[0m\u001b[0;34m\u001b[0m\u001b[0m\n",
      "\u001b[0;32m<ipython-input-325-5f6f01a24bdb>\u001b[0m in \u001b[0;36mbatch_weighted_softmax_cross_entropy\u001b[0;34m(x, t, use_cudnn, normalize, cache_score, class_weight, instance_weight)\u001b[0m\n\u001b[1;32m    237\u001b[0m     \"\"\"\n\u001b[1;32m    238\u001b[0m     return BatchWeightedSoftmaxCrossEntropy(\n\u001b[0;32m--> 239\u001b[0;31m         use_cudnn, normalize, cache_score, class_weight, instance_weight)(x, t)\n\u001b[0m",
      "\u001b[0;32m/Users/thomaseffland/.virtualenvs/research/lib/python2.7/site-packages/chainer/function.pyc\u001b[0m in \u001b[0;36m__call__\u001b[0;34m(self, *inputs)\u001b[0m\n\u001b[1;32m    180\u001b[0m         inputs = [x if isinstance(x, chainer.Variable)\n\u001b[1;32m    181\u001b[0m                   \u001b[0;32melse\u001b[0m \u001b[0mchainer\u001b[0m\u001b[0;34m.\u001b[0m\u001b[0mVariable\u001b[0m\u001b[0;34m(\u001b[0m\u001b[0mx\u001b[0m\u001b[0;34m,\u001b[0m \u001b[0mvolatile\u001b[0m\u001b[0;34m=\u001b[0m\u001b[0mflag\u001b[0m\u001b[0;34m.\u001b[0m\u001b[0mAUTO\u001b[0m\u001b[0;34m)\u001b[0m\u001b[0;34m\u001b[0m\u001b[0m\n\u001b[0;32m--> 182\u001b[0;31m                   for x in inputs]\n\u001b[0m\u001b[1;32m    183\u001b[0m \u001b[0;34m\u001b[0m\u001b[0m\n\u001b[1;32m    184\u001b[0m         \u001b[0min_data\u001b[0m \u001b[0;34m=\u001b[0m \u001b[0mtuple\u001b[0m\u001b[0;34m(\u001b[0m\u001b[0;34m[\u001b[0m\u001b[0mx\u001b[0m\u001b[0;34m.\u001b[0m\u001b[0mdata\u001b[0m \u001b[0;32mfor\u001b[0m \u001b[0mx\u001b[0m \u001b[0;32min\u001b[0m \u001b[0minputs\u001b[0m\u001b[0;34m]\u001b[0m\u001b[0;34m)\u001b[0m\u001b[0;34m\u001b[0m\u001b[0m\n",
      "\u001b[0;32m/Users/thomaseffland/.virtualenvs/research/lib/python2.7/site-packages/chainer/variable.pyc\u001b[0m in \u001b[0;36m__init__\u001b[0;34m(self, data, volatile, name, grad)\u001b[0m\n\u001b[1;32m     93\u001b[0m             msg = '''numpy.ndarray or cuda.ndarray are expected.\n\u001b[1;32m     94\u001b[0m Actual: {0}'''.format(type(data))\n\u001b[0;32m---> 95\u001b[0;31m             \u001b[0;32mraise\u001b[0m \u001b[0mTypeError\u001b[0m\u001b[0;34m(\u001b[0m\u001b[0mmsg\u001b[0m\u001b[0;34m)\u001b[0m\u001b[0;34m\u001b[0m\u001b[0m\n\u001b[0m\u001b[1;32m     96\u001b[0m \u001b[0;34m\u001b[0m\u001b[0m\n\u001b[1;32m     97\u001b[0m         \u001b[0mself\u001b[0m\u001b[0;34m.\u001b[0m\u001b[0mdata\u001b[0m \u001b[0;34m=\u001b[0m \u001b[0mdata\u001b[0m\u001b[0;34m\u001b[0m\u001b[0m\n",
      "\u001b[0;31mTypeError\u001b[0m: numpy.ndarray or cuda.ndarray are expected.\nActual: <type 'list'>"
     ]
    }
   ],
   "source": [
    "best_valid_loss = 1e50\n",
    "n_valid_up = 0\n",
    "epoch_losses = [[]]\n",
    "valid_losses = []\n",
    "forward_times = [[]]\n",
    "backward_times = [[]]\n",
    "seq_lengths = [[]]\n",
    "fit_start = time.time()\n",
    "batch_size=65\n",
    "n_epoch= 20\n",
    "npr.seed(0)\n",
    "train_iter = SequenceIterator(zip(ix_train, ib_train, im_train, ir_train), batch_size, repeat=True)\n",
    "valid_iter = SequenceIterator(zip(ix_valid, ib_valid, im_valid, ir_valid), batch_size, repeat=True)\n",
    "print train_iter.n_batches\n",
    "for i, batch in enumerate(train_iter):\n",
    "#     if i >= 50:\n",
    "#         break\n",
    "    # prepare data and model\n",
    "    x_list, b_list, m_list, r_list = zip(*batch)\n",
    "    x_list = sequences2arrays(x_list)\n",
    "    b_list = sequences2arrays(b_list)\n",
    "#     m_list = sequences2arrays(m_list)\n",
    "#     r_list = sequences2arrays(r_list)\n",
    "    extractor.reset_state()\n",
    "    extractor_loss.cleargrads()\n",
    "\n",
    "    # run model\n",
    "    start = time.time()\n",
    "    loss = extractor_loss(x_list, b_list, m_list, r_list)\n",
    "    forward_times[-1].append(time.time()-start)\n",
    "    loss_val = loss.data\n",
    "    print_batch_loss(loss_val,\n",
    "                     train_iter.epoch+1,\n",
    "                     train_iter.current_position,\n",
    "                     train_iter.n_batches)\n",
    "    epoch_losses[-1].append(loss_val)\n",
    "\n",
    "    # backprop\n",
    "    start = time.time()\n",
    "    loss.backward()\n",
    "    optimizer.update()\n",
    "    backward_times[-1].append(time.time()-start)\n",
    "    \n",
    "    # validation routine\n",
    "    if train_iter.is_new_epoch:\n",
    "        valid_loss = 0\n",
    "        for valid_batch in valid_iter:\n",
    "            x_list, b_list, m_list, r_list = zip(*valid_batch)\n",
    "            x_list = sequences2arrays(x_list)\n",
    "            b_list = sequences2arrays(b_list)\n",
    "            extractor.reset_state()\n",
    "            valid_loss += extractor_loss(x_list, b_list, m_list, r_list).data\n",
    "            if valid_iter.is_new_epoch:\n",
    "                break\n",
    "        print_epoch_loss(train_iter.epoch,\n",
    "                         np.mean(epoch_losses[-1]),\n",
    "                         valid_loss,\n",
    "                         time=np.sum(forward_times[-1]+backward_times[-1]))\n",
    "        valid_losses.append(valid_loss)\n",
    "        # save best\n",
    "        if valid_loss < best_valid_loss:\n",
    "            best_valid_loss = valid_loss\n",
    "            n_valid_up = 0\n",
    "            ch.serializers.save_npz('best_extractor.model', tagger)\n",
    "        else:\n",
    "            n_valid_up += 1\n",
    "            if n_valid_up > wait:\n",
    "                print \"Stopping early\"\n",
    "                break\n",
    "        if train_iter.epoch == n_epoch:\n",
    "            break\n",
    "        epoch_losses.append([])\n",
    "        seq_lengths.append([])\n",
    "        forward_times.append([])\n",
    "        backward_times.append([])\n",
    "    \n",
    "print \"Total time: {}\".format(time.time()-fit_start)"
   ]
  },
  {
   "cell_type": "code",
   "execution_count": 301,
   "metadata": {
    "collapsed": false
   },
   "outputs": [],
   "source": [
    "test_iter = SequenceIterator(zip(ix_test, ib_test, im_test, ir_test), 1, repeat=True)\n",
    "x_list, b_list, m_list, r_list = zip(*test_iter.next())\n",
    "t_list = sequences2arrays(x_list)\n",
    "ret = extractor.predict(t_list)"
   ]
  },
  {
   "cell_type": "code",
   "execution_count": 302,
   "metadata": {
    "collapsed": false,
    "scrolled": true
   },
   "outputs": [
    {
     "name": "stdout",
     "output_type": "stream",
     "text": [
      "[u'New'] relation:--ART-> [u'Secretary']\n",
      "[u'New'] relation:--ART-> [u'State']\n",
      "[u'Secretary'] relation:--ART-> [u'State']\n",
      "[u'New'] relation:<-GEN-AFF-- [u'AP']\n",
      "[u'Secretary'] relation:<-GEN-AFF-- [u'AP']\n",
      "[u'State'] relation:<-ART-- [u'AP']\n",
      "[u'New'] relation:--ART-> [u'Rice']\n",
      "[u'Secretary'] relation:--ART-> [u'Rice']\n",
      "[u'State'] relation:--ART-> [u'Rice']\n",
      "[u'AP'] relation:--ART-> [u'Rice']\n",
      "[u'New'] relation:--ART-> [u'President']\n",
      "[u'Secretary'] relation:--ART-> [u'President']\n",
      "[u'State'] relation:--ART-> [u'President']\n",
      "[u'AP'] relation:--GEN-AFF-> [u'President']\n",
      "[u'Rice'] relation:<-PART-WHOLE-- [u'President']\n",
      "[u'New'] relation:<-PART-WHOLE-- [u'Bush']\n",
      "[u'Secretary'] relation:--GEN-AFF-> [u'Bush']\n",
      "[u'State'] relation:<-PART-WHOLE-- [u'Bush']\n",
      "[u'AP'] relation:--GEN-AFF-> [u'Bush']\n",
      "[u'Rice'] relation:<-PART-WHOLE-- [u'Bush']\n",
      "[u'President'] relation:<-PART-WHOLE-- [u'Bush']\n",
      "[u'New'] relation:--GEN-AFF-> [u'new']\n",
      "[u'Secretary'] relation:--GEN-AFF-> [u'new']\n",
      "[u'State'] relation:<-ART-- [u'new']\n",
      "[u'AP'] relation:--GEN-AFF-> [u'new']\n",
      "[u'Rice'] relation:--GEN-AFF-> [u'new']\n",
      "[u'President'] relation:--ORG-AFF-> [u'new']\n",
      "[u'Bush'] relation:--GEN-AFF-> [u'new']\n",
      "[u'New'] relation:--GEN-AFF-> [u'Secretary']\n",
      "[u'Secretary'] relation:<-ORG-AFF-- [u'Secretary']\n",
      "[u'State'] relation:--ORG-AFF-> [u'Secretary']\n",
      "[u'AP'] relation:--GEN-AFF-> [u'Secretary']\n",
      "[u'Rice'] relation:--ORG-AFF-> [u'Secretary']\n",
      "[u'President'] relation:--ORG-AFF-> [u'Secretary']\n",
      "[u'Bush'] relation:<-ORG-AFF-- [u'Secretary']\n",
      "[u'new'] <UNK> [u'Secretary']\n",
      "[u'New'] relation:--ART-> [u'State']\n",
      "[u'Secretary'] --NULL-- [u'State']\n",
      "[u'State'] relation:<-PART-WHOLE-- [u'State']\n",
      "[u'AP'] --NULL-- [u'State']\n",
      "[u'Rice'] relation:<-PART-WHOLE-- [u'State']\n",
      "[u'President'] relation:--ORG-AFF-> [u'State']\n",
      "[u'Bush'] relation:<-PART-WHOLE-- [u'State']\n",
      "[u'new'] <UNK> [u'State']\n",
      "[u'Secretary'] --NULL-- [u'State']\n",
      "[u'New'] relation:--ART-> [u'his']\n",
      "[u'Secretary'] relation:--ART-> [u'his']\n",
      "[u'State'] relation:<-ART-- [u'his']\n",
      "[u'AP'] relation:--ORG-AFF-> [u'his']\n",
      "[u'Rice'] relation:--ORG-AFF-> [u'his']\n",
      "[u'President'] relation:--ORG-AFF-> [u'his']\n",
      "[u'Bush'] relation:--ART-> [u'his']\n",
      "[u'new'] <UNK> [u'his']\n",
      "[u'Secretary'] <UNK> [u'his']\n",
      "[u'State'] relation:--GEN-AFF-> [u'his']\n",
      "[u'New'] relation:<-ART-- [u'I']\n",
      "[u'Secretary'] relation:--ORG-AFF-> [u'I']\n",
      "[u'State'] relation:<-ART-- [u'I']\n",
      "[u'AP'] relation:--ORG-AFF-> [u'I']\n",
      "[u'Rice'] relation:--ORG-AFF-> [u'I']\n",
      "[u'President'] relation:--ORG-AFF-> [u'I']\n",
      "[u'Bush'] relation:--ORG-AFF-> [u'I']\n",
      "[u'new'] relation:--ORG-AFF-> [u'I']\n",
      "[u'Secretary'] relation:<-ART-- [u'I']\n",
      "[u'State'] relation:<-ART-- [u'I']\n",
      "[u'his'] relation:--ORG-AFF-> [u'I']\n",
      "[u'New'] relation:--ART-> [u'his']\n",
      "[u'Secretary'] relation:--ART-> [u'his']\n",
      "[u'State'] relation:--ART-> [u'his']\n",
      "[u'AP'] relation:--GEN-AFF-> [u'his']\n",
      "[u'Rice'] relation:--GEN-AFF-> [u'his']\n",
      "[u'President'] relation:--ORG-AFF-> [u'his']\n",
      "[u'Bush'] relation:--ART-> [u'his']\n",
      "[u'new'] relation:<-PER-SOC-- [u'his']\n",
      "[u'Secretary'] relation:--GEN-AFF-> [u'his']\n",
      "[u'State'] relation:--GEN-AFF-> [u'his']\n",
      "[u'his'] --NULL-- [u'his']\n",
      "[u'I'] relation:--GEN-AFF-> [u'his']\n",
      "[u'New'] relation:--ORG-AFF-> [u'she']\n",
      "[u'Secretary'] relation:--ORG-AFF-> [u'she']\n",
      "[u'State'] relation:--ORG-AFF-> [u'she']\n",
      "[u'AP'] relation:--ORG-AFF-> [u'she']\n",
      "[u'Rice'] relation:--ORG-AFF-> [u'she']\n",
      "[u'President'] relation:--ORG-AFF-> [u'she']\n",
      "[u'Bush'] relation:--ORG-AFF-> [u'she']\n",
      "[u'new'] relation:--ORG-AFF-> [u'she']\n",
      "[u'Secretary'] relation:--ORG-AFF-> [u'she']\n",
      "[u'State'] relation:<-ART-- [u'she']\n",
      "[u'his'] relation:--ORG-AFF-> [u'she']\n",
      "[u'I'] relation:--ORG-AFF-> [u'she']\n",
      "[u'his'] relation:--ORG-AFF-> [u'she']\n",
      "[u'New'] relation:--ART-> [u'Secretary']\n",
      "[u'Secretary'] relation:<-ORG-AFF-- [u'Secretary']\n",
      "[u'State'] relation:--ART-> [u'Secretary']\n",
      "[u'AP'] relation:--ART-> [u'Secretary']\n",
      "[u'Rice'] relation:<-PART-WHOLE-- [u'Secretary']\n",
      "[u'President'] relation:<-ORG-AFF-- [u'Secretary']\n",
      "[u'Bush'] relation:<-ORG-AFF-- [u'Secretary']\n",
      "[u'new'] <UNK> [u'Secretary']\n",
      "[u'Secretary'] <UNK> [u'Secretary']\n",
      "[u'State'] relation:<-ORG-AFF-- [u'Secretary']\n",
      "[u'his'] --NULL-- [u'Secretary']\n",
      "[u'I'] relation:--GEN-AFF-> [u'Secretary']\n",
      "[u'his'] relation:--ART-> [u'Secretary']\n",
      "[u'she'] relation:--ART-> [u'Secretary']\n",
      "[u'New'] relation:--GEN-AFF-> [u'Her']\n",
      "[u'Secretary'] relation:--GEN-AFF-> [u'Her']\n",
      "[u'State'] relation:<-ART-- [u'Her']\n",
      "[u'AP'] relation:--GEN-AFF-> [u'Her']\n",
      "[u'Rice'] relation:--ORG-AFF-> [u'Her']\n",
      "[u'President'] relation:--ORG-AFF-> [u'Her']\n",
      "[u'Bush'] relation:<-PART-WHOLE-- [u'Her']\n",
      "[u'new'] relation:--ORG-AFF-> [u'Her']\n",
      "[u'Secretary'] relation:--GEN-AFF-> [u'Her']\n",
      "[u'State'] relation:--GEN-AFF-> [u'Her']\n",
      "[u'his'] relation:--ORG-AFF-> [u'Her']\n",
      "[u'I'] relation:--GEN-AFF-> [u'Her']\n",
      "[u'his'] relation:--ORG-AFF-> [u'Her']\n",
      "[u'she'] relation:--GEN-AFF-> [u'Her']\n",
      "[u'Secretary'] relation:--GEN-AFF-> [u'Her']\n",
      "[u'New'] relation:<-ART-- [u'President']\n",
      "[u'Secretary'] <PAD> [u'President']\n",
      "[u'State'] relation:<-ART-- [u'President']\n",
      "[u'AP'] relation:--GEN-AFF-> [u'President']\n",
      "[u'Rice'] relation:--ORG-AFF-> [u'President']\n",
      "[u'President'] relation:<-ORG-AFF-- [u'President']\n",
      "[u'Bush'] relation:<-ART-- [u'President']\n",
      "[u'new'] relation:<-PER-SOC-- [u'President']\n",
      "[u'Secretary'] relation:<-ART-- [u'President']\n",
      "[u'State'] relation:<-ART-- [u'President']\n",
      "[u'his'] relation:<-ART-- [u'President']\n",
      "[u'I'] relation:--GEN-AFF-> [u'President']\n",
      "[u'his'] relation:<-ART-- [u'President']\n",
      "[u'she'] relation:<-ART-- [u'President']\n",
      "[u'Secretary'] relation:<-ART-- [u'President']\n",
      "[u'Her'] relation:<-ART-- [u'President']\n",
      "[u'New'] relation:<-ART-- [u'Powell']\n",
      "[u'Secretary'] relation:--ORG-AFF-> [u'Powell']\n",
      "[u'State'] relation:<-ART-- [u'Powell']\n",
      "[u'AP'] relation:--ORG-AFF-> [u'Powell']\n",
      "[u'Rice'] relation:--ORG-AFF-> [u'Powell']\n",
      "[u'President'] relation:--ORG-AFF-> [u'Powell']\n",
      "[u'Bush'] relation:--ORG-AFF-> [u'Powell']\n",
      "[u'new'] relation:--ORG-AFF-> [u'Powell']\n",
      "[u'Secretary'] <PAD> [u'Powell']\n",
      "[u'State'] relation:<-ART-- [u'Powell']\n",
      "[u'his'] relation:--ORG-AFF-> [u'Powell']\n",
      "[u'I'] relation:--GEN-AFF-> [u'Powell']\n",
      "[u'his'] relation:--ORG-AFF-> [u'Powell']\n",
      "[u'she'] relation:--ART-> [u'Powell']\n",
      "[u'Secretary'] relation:<-ART-- [u'Powell']\n",
      "[u'Her'] relation:<-ART-- [u'Powell']\n",
      "[u'President'] relation:--ORG-AFF-> [u'Powell']\n",
      "[u'New'] relation:<-ART-- [u'he']\n",
      "[u'Secretary'] relation:<-ORG-AFF-- [u'he']\n",
      "[u'State'] relation:<-ART-- [u'he']\n",
      "[u'AP'] relation:<-ORG-AFF-- [u'he']\n",
      "[u'Rice'] relation:<-ORG-AFF-- [u'he']\n",
      "[u'President'] relation:<-ORG-AFF-- [u'he']\n",
      "[u'Bush'] relation:<-ORG-AFF-- [u'he']\n",
      "[u'new'] relation:<-PER-SOC-- [u'he']\n",
      "[u'Secretary'] relation:<-ORG-AFF-- [u'he']\n",
      "[u'State'] relation:<-ORG-AFF-- [u'he']\n",
      "[u'his'] relation:<-ORG-AFF-- [u'he']\n",
      "[u'I'] relation:--GEN-AFF-> [u'he']\n",
      "[u'his'] relation:<-ORG-AFF-- [u'he']\n",
      "[u'she'] relation:--GEN-AFF-> [u'he']\n",
      "[u'Secretary'] relation:<-ORG-AFF-- [u'he']\n",
      "[u'Her'] relation:<-ART-- [u'he']\n",
      "[u'President'] relation:<-ORG-AFF-- [u'he']\n",
      "[u'Powell'] relation:<-ART-- [u'he']\n",
      "[u'New'] relation:--ART-> [u'soldier']\n",
      "[u'Secretary'] relation:--ART-> [u'soldier']\n",
      "[u'State'] relation:--ART-> [u'soldier']\n",
      "[u'AP'] relation:--ART-> [u'soldier']\n",
      "[u'Rice'] relation:--GEN-AFF-> [u'soldier']\n",
      "[u'President'] relation:<-ORG-AFF-- [u'soldier']\n",
      "[u'Bush'] relation:--ART-> [u'soldier']\n",
      "[u'new'] <UNK> [u'soldier']\n",
      "[u'Secretary'] <UNK> [u'soldier']\n",
      "[u'State'] relation:--GEN-AFF-> [u'soldier']\n",
      "[u'his'] relation:--ART-> [u'soldier']\n",
      "[u'I'] relation:--GEN-AFF-> [u'soldier']\n",
      "[u'his'] relation:<-PHYS-- [u'soldier']\n",
      "[u'she'] relation:--ART-> [u'soldier']\n",
      "[u'Secretary'] relation:--ART-> [u'soldier']\n",
      "[u'Her'] relation:--ART-> [u'soldier']\n",
      "[u'President'] relation:--GEN-AFF-> [u'soldier']\n",
      "[u'Powell'] relation:--ART-> [u'soldier']\n",
      "[u'he'] relation:<-PHYS-- [u'soldier']\n",
      "[u'New'] relation:<-ART-- [u'who']\n",
      "[u'Secretary'] relation:--ORG-AFF-> [u'who']\n",
      "[u'State'] relation:<-ART-- [u'who']\n",
      "[u'AP'] relation:--ORG-AFF-> [u'who']\n",
      "[u'Rice'] relation:--ORG-AFF-> [u'who']\n",
      "[u'President'] relation:--ORG-AFF-> [u'who']\n",
      "[u'Bush'] relation:--ORG-AFF-> [u'who']\n",
      "[u'new'] relation:--ORG-AFF-> [u'who']\n",
      "[u'Secretary'] relation:<-ART-- [u'who']\n",
      "[u'State'] relation:<-ART-- [u'who']\n",
      "[u'his'] relation:--ORG-AFF-> [u'who']\n",
      "[u'I'] relation:--GEN-AFF-> [u'who']\n",
      "[u'his'] relation:--ORG-AFF-> [u'who']\n",
      "[u'she'] relation:<-ART-- [u'who']\n",
      "[u'Secretary'] relation:<-ART-- [u'who']\n",
      "[u'Her'] relation:<-ART-- [u'who']\n",
      "[u'President'] relation:--ORG-AFF-> [u'who']\n",
      "[u'Powell'] relation:<-ART-- [u'who']\n",
      "[u'he'] relation:<-PER-SOC-- [u'who']\n",
      "[u'soldier'] relation:--ORG-AFF-> [u'who']\n",
      "[u'New'] relation:--ART-> [u'my']\n",
      "[u'Secretary'] relation:--ART-> [u'my']\n",
      "[u'State'] relation:<-ART-- [u'my']\n",
      "[u'AP'] relation:--ART-> [u'my']\n",
      "[u'Rice'] relation:--ORG-AFF-> [u'my']\n",
      "[u'President'] relation:--ORG-AFF-> [u'my']\n",
      "[u'Bush'] relation:--ART-> [u'my']\n",
      "[u'new'] <UNK> [u'my']\n",
      "[u'Secretary'] <UNK> [u'my']\n",
      "[u'State'] relation:--GEN-AFF-> [u'my']\n",
      "[u'his'] <UNK> [u'my']\n",
      "[u'I'] relation:--GEN-AFF-> [u'my']\n",
      "[u'his'] relation:--ORG-AFF-> [u'my']\n",
      "[u'she'] relation:--ART-> [u'my']\n",
      "[u'Secretary'] relation:--ART-> [u'my']\n",
      "[u'Her'] relation:--ART-> [u'my']\n",
      "[u'President'] relation:--ORG-AFF-> [u'my']\n",
      "[u'Powell'] relation:--ART-> [u'my']\n",
      "[u'he'] <PAD> [u'my']\n",
      "[u'soldier'] relation:--ORG-AFF-> [u'my']\n",
      "[u'who'] relation:--ART-> [u'my']\n"
     ]
    }
   ],
   "source": [
    "ms, rs, mspans, rspans = ret\n",
    "s = convert_sequence(x_list[0], token_vocab.token)\n",
    "# for m, span in zip(ms[0], mspans[0]):\n",
    "#     print mention_vocab.token(m), s[span[0]:span[1]]\n",
    "for r, rspan in zip(rs[0], rspans[0]):\n",
    "    t = relation_vocab.token(r)\n",
    "    if True:#t != '--NULL--':\n",
    "        print s[rspan[0]:rspan[1]], t, s[rspan[2]:rspan[3]]"
   ]
  },
  {
   "cell_type": "code",
   "execution_count": 303,
   "metadata": {
    "collapsed": true
   },
   "outputs": [],
   "source": [
    "from infonet.util import convert_sequence"
   ]
  },
  {
   "cell_type": "code",
   "execution_count": 304,
   "metadata": {
    "collapsed": false,
    "scrolled": false
   },
   "outputs": [
    {
     "name": "stdout",
     "output_type": "stream",
     "text": [
      "< DOC > < DOCID > <UNK> < /DOCID > < DOCTYPE SOURCE=\"weblog \" > WEB TEXT < /DOCTYPE > < DATETIME > 2004 - 11 - <UNK> < /DATETIME > < BODY > < HEADLINE > <UNK> the [New](entity:VEH) [Secretary](value:Numeric) of [State](entity:VEH) < /HEADLINE > < TEXT > < POST > < POSTER > Curt < /POSTER > < POSTDATE > 2004 - 11 - <UNK> < /POSTDATE > Just reported from [AP](entity:VEH) that <UNK> [Rice](value:Numeric) has been chosen by [President](entity:WEA) [Bush](value:Numeric) to become the [new](entity:WEA) [Secretary](value:Numeric) of [State](entity:VEH) for [his](entity:WEA) second term . [I](value:Numeric) agree with [his](value:Numeric) choice and think [she](entity:VEH) will make a much better [Secretary](value:Numeric) then Powell did . [Her](value:Numeric) views are much more in step with the [President](entity:VEH) then [Powell](value:Numeric) , although [he](value:Contact-Info) was a true [soldier](entity:WEA) and carried the message .   <UNK> , any lady [who](entity:VEH) works out to <UNK> <UNK> and is a <UNK> <UNK> is <UNK> in [my](value:Numeric) book .   < /POST > < /TEXT > < /BODY > < /DOC > \n"
     ]
    }
   ],
   "source": [
    "def print_tagged_doc(tokens, mentions, mspans):\n",
    "    doc_str = ''\n",
    "    m_starts = [m[0] for m in mspans]\n",
    "    m_ends = [m[1] for m in mspans]\n",
    "    m_types = {m[1]:t for m, t in zip(mspans, mentions)}\n",
    "    for i, token in enumerate(tokens):\n",
    "        if i in m_starts:\n",
    "            doc_str += '['\n",
    "        doc_str += token\n",
    "        if i+1 in m_ends:\n",
    "            doc_str += ']'\n",
    "            doc_str += '({})'.format(m_types[i+1])\n",
    "        doc_str += ' '\n",
    "    print doc_str\n",
    "    \n",
    "mentions = convert_sequence(ms[0], mention_vocab.token)\n",
    "print_tagged_doc(s, mentions, mspans[0])"
   ]
  },
  {
   "cell_type": "code",
   "execution_count": 248,
   "metadata": {
    "collapsed": false
   },
   "outputs": [
    {
     "name": "stdout",
     "output_type": "stream",
     "text": [
      "< DOC > < DOCID > <UNK> < /DOCID > < DOCTYPE SOURCE=\"weblog \" > WEB TEXT < /DOCTYPE > < DATETIME > 2005 - 02 - <UNK> < /DATETIME > < BODY > < HEADLINE > <UNK> the <UNK> in Iraq < /HEADLINE > < TEXT > < POST > < POSTER > Scott < /POSTER > < POSTDATE > 2005 - 02 - <UNK> < /POSTDATE > A CNN poll asks <UNK> to rate the president 's State of the Union speech last night . After <UNK> votes Mr. Bush has a ' <UNK> - <UNK> ' grade across the board , meaning <UNK> Republicans gave him an ' A ' and <UNK> liberals failed him .   But a new <UNK> <UNK> poll suggests more people side with the president . 70 percent of <UNK> said Bush 's policies on health care were positive , while <UNK> percent approved of the president 's plan for Social Security . <UNK> percent said U.S. policy in Iraq is <UNK> in the right direction , a 12 percentage point increase over pre - speech <UNK> . <UNK> , <UNK> percent of <UNK> said Bush is taking the country in the right direction after the speech compared to <UNK> percent beforehand .   And who was n't moved by the <UNK> of mother of a soldier killed in Iraq and the daughter of a man killed by Saddam Hussein 's regime ? It was a beautiful moment last night that <UNK> in the <UNK> standing ovation of the evening .   Today the parents of Marine <UNK> <UNK> . <UNK> <UNK> said the Iraqi woman , <UNK> <UNK> al - <UNK> , had turned and introduced herself just before the speech .   \" She <UNK> us for our son 's <UNK> and made sure we knew the people in Iraq were grateful for the <UNK> that were made not just by our son , but by all of them , \" Janet <UNK> said .   It was an <UNK> moment suggesting that maybe we 're doing the right thing . I talked to a friend currently serving in Iraq last night and he says <UNK> is up and the presence of troops is a positive thing . They just ca n't pack up and leave . Not just yet . We must be patient . < /POST > < /TEXT > < /BODY > < /DOC >\n"
     ]
    }
   ],
   "source": [
    "print ' '.join(convert_sequence(x_list[0], token_vocab.token))"
   ]
  },
  {
   "cell_type": "code",
   "execution_count": 247,
   "metadata": {
    "collapsed": false
   },
   "outputs": [
    {
     "name": "stdout",
     "output_type": "stream",
     "text": [
      "(66, 14)\n"
     ]
    }
   ],
   "source": [
    "print ret[0][0].shape"
   ]
  },
  {
   "cell_type": "code",
   "execution_count": 122,
   "metadata": {
    "collapsed": false
   },
   "outputs": [
    {
     "data": {
      "text/plain": [
       "(array([  9.85061000e+05,   4.70802000e+05,   2.30848000e+05,\n",
       "          1.21038000e+05,   5.77970000e+04,   2.30960000e+04,\n",
       "          1.14470000e+04,   6.82600000e+03,   3.61400000e+03,\n",
       "          9.13000000e+02]),\n",
       " array([  2.00000000e+00,   3.93300000e+02,   7.84600000e+02,\n",
       "          1.17590000e+03,   1.56720000e+03,   1.95850000e+03,\n",
       "          2.34980000e+03,   2.74110000e+03,   3.13240000e+03,\n",
       "          3.52370000e+03,   3.91500000e+03]),\n",
       " <a list of 10 Patch objects>)"
      ]
     },
     "execution_count": 122,
     "metadata": {},
     "output_type": "execute_result"
    },
    {
     "data": {
      "image/png": "[encoded data removed]",
      "text/plain": [
       "<matplotlib.figure.Figure at 0x10c5308d0>"
      ]
     },
     "metadata": {},
     "output_type": "display_data"
    }
   ],
   "source": [
    "plt.hist([d for dist in full_dists for d in dist])"
   ]
  },
  {
   "cell_type": "code",
   "execution_count": 123,
   "metadata": {
    "collapsed": true
   },
   "outputs": [],
   "source": [
    "extractor = Extractor(tagger.copy(), \n",
    "                      mention_vocab.v, relation_vocab.v,\n",
    "                      in_tags=in_tags, out_tags=out_tags,\n",
    "                      max_rel_dist=200)"
   ]
  },
  {
   "cell_type": "code",
   "execution_count": 124,
   "metadata": {
    "collapsed": false,
    "scrolled": true
   },
   "outputs": [
    {
     "name": "stdout",
     "output_type": "stream",
     "text": [
      "7\n",
      "0.324188314378 sec/doc\n",
      "0 ----------------------------------------\n",
      "[(142, 23), (181, 23), (204, 23), (198, 23), (205, 23), (167, 23), (195, 23), (151, 23), (168, 23), (109, 23), (143, 23), (136, 23), (140, 23), (118, 23), (112, 23), (119, 23), (101, 23), (90, 23), (96, 23), (120, 23), (98, 23), (78, 23), (60, 23), (59, 23), (44, 23), (52, 23), (40, 23), (55, 23), (76, 23), (52, 23), (60, 23), (40, 23), (60, 23), (40, 23), (56, 23), (38, 23), (56, 23), (40, 23), (37, 23), (42, 23), (33, 23), (19, 23), (26, 23), (31, 23), (39, 23), (33, 23), (41, 23), (31, 23), (37, 23), (36, 23), (33, 23), (29, 23), (17, 23), (18, 23), (19, 23), (15, 23), (9, 23), (16, 23), (16, 23), (18, 23), (14, 23), (15, 23), (16, 23), (10, 23)]\n",
      "[(1877, 71), (2937, 71), (3700, 71), (3859, 71), (4507, 71), (3052, 71), (4273, 71), (2608, 71), (3903, 71), (1570, 71), (3147, 71), (3121, 71), (3384, 71), (2560, 71), (2456, 71), (3206, 71), (2155, 71), (1806, 71), (1965, 71), (3367, 71), (2580, 71), (1560, 71), (1069, 71), (1111, 71), (576, 71), (870, 71), (598, 71), (1012, 71), (2011, 71), (926, 71), (1396, 71), (596, 71), (1428, 71), (607, 71), (1247, 71), (572, 71), (1232, 71), (679, 71), (559, 71), (793, 71), (500, 71), (156, 71), (322, 71), (432, 71), (716, 71), (511, 71), (796, 71), (457, 71), (631, 71), (615, 71), (521, 71), (406, 71), (136, 71), (153, 71), (171, 71), (105, 71), (36, 71), (120, 71), (120, 71), (153, 71), (91, 71), (105, 71), (120, 71), (45, 71)]\n",
      "[1877, 2937, 3700, 3859, 4507, 3052, 4273, 2608, 3903, 1570, 3147, 3121, 3384, 2560, 2456, 3206, 2155, 1806, 1965, 3367, 2580, 1560, 1069, 1111, 576, 870, 598, 1012, 2011, 926, 1396, 596, 1428, 607, 1247, 572, 1232, 679, 559, 793, 500, 156, 322, 432, 716, 511, 796, 457, 631, 615, 521, 406, 136, 153, 171, 105, 36, 120, 120, 153, 91, 105, 120, 45]\n",
      "0.363106310368 sec/doc\n",
      "1 ----------------------------------------\n",
      "[(248, 23), (152, 23), (185, 23), (231, 23), (210, 23), (202, 23), (156, 23), (117, 23), (123, 23), (137, 23), (124, 23), (142, 23), (147, 23), (162, 23), (147, 23), (101, 23), (142, 23), (106, 23), (116, 23), (109, 23), (83, 23), (87, 23), (80, 23), (65, 23), (70, 23), (60, 23), (66, 23), (61, 23), (63, 23), (72, 23), (69, 23), (48, 23), (50, 23), (58, 23), (44, 23), (35, 23), (39, 23), (35, 23), (31, 23), (39, 23), (32, 23), (43, 23), (25, 23), (27, 23), (34, 23), (43, 23), (32, 23), (27, 23), (42, 23), (35, 23), (30, 23), (32, 23), (32, 23), (35, 23), (27, 23), (31, 23), (10, 23), (19, 23), (10, 23), (10, 23), (8, 23), (6, 23), (10, 23), (5, 23)]\n",
      "[(3958, 71), (1814, 71), (3096, 71), (5194, 71), (4510, 71), (5207, 71), (3534, 71), (2315, 71), (2503, 71), (3038, 71), (2587, 71), (3522, 71), (3746, 71), (4714, 71), (3739, 71), (1851, 71), (3593, 71), (2124, 71), (2683, 71), (2361, 71), (1548, 71), (1740, 71), (1499, 71), (1145, 71), (1455, 71), (1055, 71), (1471, 71), (1237, 71), (1349, 71), (1700, 71), (1621, 71), (829, 71), (891, 71), (1190, 71), (826, 71), (515, 71), (657, 71), (523, 71), (435, 71), (697, 71), (472, 71), (877, 71), (287, 71), (317, 71), (520, 71), (827, 71), (473, 71), (344, 71), (829, 71), (585, 71), (431, 71), (485, 71), (494, 71), (584, 71), (351, 71), (465, 71), (45, 71), (171, 71), (45, 71), (45, 71), (28, 71), (15, 71), (45, 71), (10, 71)]\n",
      "[3958, 1814, 3096, 5194, 4510, 5207, 3534, 2315, 2503, 3038, 2587, 3522, 3746, 4714, 3739, 1851, 3593, 2124, 2683, 2361, 1548, 1740, 1499, 1145, 1455, 1055, 1471, 1237, 1349, 1700, 1621, 829, 891, 1190, 826, 515, 657, 523, 435, 697, 472, 877, 287, 317, 520, 827, 473, 344, 829, 585, 431, 485, 494, 584, 351, 465, 45, 171, 45, 45, 28, 15, 45, 10]\n",
      "0.273984532803 sec/doc\n",
      "2 ----------------------------------------\n",
      "[(159, 23), (196, 23), (188, 23), (126, 23), (151, 23), (152, 23), (127, 23), (137, 23), (123, 23), (115, 23), (104, 23), (120, 23), (77, 23), (80, 23), (73, 23), (66, 23), (69, 23), (72, 23), (79, 23), (75, 23), (77, 23), (61, 23), (68, 23), (73, 23), (52, 23), (54, 23), (54, 23), (62, 23), (49, 23), (41, 23), (35, 23), (47, 23), (44, 23), (43, 23), (45, 23), (40, 23), (31, 23), (36, 23), (21, 23), (32, 23), (16, 23), (41, 23), (34, 23), (38, 23), (37, 23), (32, 23), (25, 23), (25, 23), (23, 23), (24, 23), (26, 23), (21, 23), (17, 23), (17, 23), (17, 23), (15, 23), (12, 23), (10, 23), (8, 23), (11, 23), (8, 23), (11, 23), (6, 23), (11, 23)]\n",
      "[(2392, 71), (4532, 71), (4430, 71), (2374, 71), (3415, 71), (3819, 71), (2758, 71), (3330, 71), (2841, 71), (2627, 71), (2126, 71), (2890, 71), (1337, 71), (1744, 71), (1540, 71), (1526, 71), (1403, 71), (1542, 71), (1794, 71), (1760, 71), (1832, 71), (1148, 71), (1441, 71), (1799, 71), (996, 71), (1052, 71), (1001, 71), (1306, 71), (955, 71), (654, 71), (455, 71), (908, 71), (771, 71), (789, 71), (857, 71), (712, 71), (425, 71), (558, 71), (207, 71), (450, 71), (120, 71), (790, 71), (550, 71), (660, 71), (661, 71), (492, 71), (300, 71), (300, 71), (253, 71), (276, 71), (325, 71), (210, 71), (136, 71), (136, 71), (136, 71), (105, 71), (66, 71), (45, 71), (28, 71), (55, 71), (28, 71), (55, 71), (15, 71), (55, 71)]\n",
      "[2392, 4532, 4430, 2374, 3415, 3819, 2758, 3330, 2841, 2627, 2126, 2890, 1337, 1744, 1540, 1526, 1403, 1542, 1794, 1760, 1832, 1148, 1441, 1799, 996, 1052, 1001, 1306, 955, 654, 455, 908, 771, 789, 857, 712, 425, 558, 207, 450, 120, 790, 550, 660, 661, 492, 300, 300, 253, 276, 325, 210, 136, 136, 136, 105, 66, 45, 28, 55, 28, 55, 15, 55]\n",
      "0.332191154361 sec/doc\n",
      "3 ----------------------------------------\n",
      "[(243, 23), (197, 23), (220, 23), (187, 23), (180, 23), (170, 23), (172, 23), (149, 23), (154, 23), (154, 23), (122, 23), (122, 23), (131, 23), (106, 23), (108, 23), (91, 23), (105, 23), (122, 23), (111, 23), (72, 23), (82, 23), (89, 23), (98, 23), (77, 23), (79, 23), (71, 23), (64, 23), (43, 23), (50, 23), (49, 23), (52, 23), (29, 23), (38, 23), (36, 23), (37, 23), (42, 23), (32, 23), (43, 23), (41, 23), (32, 23), (30, 23), (31, 23), (38, 23), (32, 23), (17, 23), (29, 23), (23, 23), (25, 23), (30, 23), (25, 23), (26, 23), (19, 23), (16, 23), (17, 23), (19, 23), (25, 23), (14, 23), (14, 23), (12, 23), (16, 23), (7, 23), (9, 23), (10, 23), (9, 23)]\n",
      "[(4811, 71), (3540, 71), (4499, 71), (3833, 71), (3589, 71), (3516, 71), (3882, 71), (3524, 71), (4003, 71), (3966, 71), (2587, 71), (2654, 71), (3190, 71), (2160, 71), (2167, 71), (1820, 71), (2384, 71), (3238, 71), (2724, 71), (1328, 71), (1752, 71), (2125, 71), (2667, 71), (1639, 71), (1928, 71), (1607, 71), (1280, 71), (627, 71), (927, 71), (1016, 71), (1072, 71), (308, 71), (578, 71), (539, 71), (600, 71), (792, 71), (467, 71), (796, 71), (806, 71), (474, 71), (390, 71), (446, 71), (687, 71), (487, 71), (136, 71), (404, 71), (253, 71), (300, 71), (435, 71), (300, 71), (325, 71), (171, 71), (120, 71), (136, 71), (171, 71), (300, 71), (91, 71), (91, 71), (66, 71), (120, 71), (21, 71), (36, 71), (45, 71), (36, 71)]\n",
      "[4811, 3540, 4499, 3833, 3589, 3516, 3882, 3524, 4003, 3966, 2587, 2654, 3190, 2160, 2167, 1820, 2384, 3238, 2724, 1328, 1752, 2125, 2667, 1639, 1928, 1607, 1280, 627, 927, 1016, 1072, 308, 578, 539, 600, 792, 467, 796, 806, 474, 390, 446, 687, 487, 136, 404, 253, 300, 435, 300, 325, 171, 120, 136, 171, 300, 91, 91, 66, 120, 21, 36, 45, 36]\n",
      "0.346583515406 sec/doc\n",
      "4 ----------------------------------------\n",
      "[(280, 23), (271, 23), (241, 23), (237, 23), (191, 23), (208, 23), (179, 23), (188, 23), (162, 23), (164, 23), (133, 23), (116, 23), (128, 23), (140, 23), (89, 23), (94, 23), (84, 23), (112, 23), (72, 23), (91, 23), (80, 23), (73, 23), (63, 23), (52, 23), (76, 23), (75, 23), (58, 23), (53, 23), (41, 23), (43, 23), (39, 23), (47, 23), (39, 23), (44, 23), (39, 23), (38, 23), (44, 23), (40, 23), (35, 23), (53, 23), (29, 23), (34, 23), (37, 23), (38, 23), (30, 23), (35, 23), (24, 23), (36, 23), (33, 23), (37, 23), (35, 23), (35, 23), (36, 23), (22, 23), (24, 23), (18, 23), (10, 23), (18, 23), (11, 23), (16, 23), (13, 23), (11, 23), (7, 23), (9, 23)]\n",
      "[(5698, 71), (5659, 71), (4935, 71), (4907, 71), (3599, 71), (4691, 71), (3501, 71), (4287, 71), (3232, 71), (4073, 71), (2895, 71), (2457, 71), (2844, 71), (3496, 71), (1421, 71), (1811, 71), (1514, 71), (2679, 71), (1238, 71), (2134, 71), (1775, 71), (1576, 71), (1068, 71), (762, 71), (1562, 71), (1569, 71), (1147, 71), (882, 71), (572, 71), (719, 71), (569, 71), (925, 71), (582, 71), (843, 71), (618, 71), (625, 71), (853, 71), (654, 71), (478, 71), (1225, 71), (368, 71), (508, 71), (618, 71), (681, 71), (423, 71), (558, 71), (275, 71), (592, 71), (508, 71), (658, 71), (591, 71), (581, 71), (630, 71), (231, 71), (276, 71), (153, 71), (45, 71), (153, 71), (55, 71), (120, 71), (78, 71), (55, 71), (21, 71), (36, 71)]\n",
      "[5698, 5659, 4935, 4907, 3599, 4691, 3501, 4287, 3232, 4073, 2895, 2457, 2844, 3496, 1421, 1811, 1514, 2679, 1238, 2134, 1775, 1576, 1068, 762, 1562, 1569, 1147, 882, 572, 719, 569, 925, 582, 843, 618, 625, 853, 654, 478, 1225, 368, 508, 618, 681, 423, 558, 275, 592, 508, 658, 591, 581, 630, 231, 276, 153, 45, 153, 55, 120, 78, 55, 21, 36]\n",
      "0.464973341674 sec/doc\n",
      "5 ----------------------------------------\n",
      "[(329, 23), (208, 23), (260, 23), (195, 23), (206, 23), (231, 23), (192, 23), (206, 23), (108, 23), (151, 23), (117, 23), (119, 23), (138, 23), (114, 23), (113, 23), (118, 23), (75, 23), (119, 23), (114, 23), (89, 23), (80, 23), (82, 23), (72, 23), (67, 23), (50, 23), (65, 23), (45, 23), (64, 23), (51, 23), (63, 23), (68, 23), (48, 23), (47, 23), (55, 23), (51, 23), (44, 23), (48, 23), (35, 23), (46, 23), (37, 23), (18, 23), (34, 23), (29, 23), (39, 23), (27, 23), (29, 23), (24, 23), (26, 23), (21, 23), (23, 23), (23, 23), (21, 23), (23, 23), (28, 23), (17, 23), (17, 23), (16, 23), (13, 23), (13, 23), (11, 23), (11, 23), (11, 23), (9, 23), (7, 23)]\n",
      "[(5372, 71), (3293, 71), (5479, 71), (3276, 71), (3826, 71), (4895, 71), (3434, 71), (4577, 71), (1351, 71), (3023, 71), (2085, 71), (2269, 71), (3145, 71), (2154, 71), (2230, 71), (2677, 71), (1072, 71), (3044, 71), (2835, 71), (1991, 71), (1764, 71), (1810, 71), (1666, 71), (1423, 71), (829, 71), (1444, 71), (705, 71), (1469, 71), (873, 71), (1459, 71), (1535, 71), (779, 71), (815, 71), (1161, 71), (1044, 71), (742, 71), (1008, 71), (542, 71), (918, 71), (635, 71), (150, 71), (525, 71), (396, 71), (713, 71), (343, 71), (404, 71), (276, 71), (325, 71), (210, 71), (253, 71), (253, 71), (210, 71), (253, 71), (378, 71), (136, 71), (136, 71), (120, 71), (78, 71), (78, 71), (55, 71), (55, 71), (55, 71), (36, 71), (21, 71)]\n",
      "[5372, 3293, 5479, 3276, 3826, 4895, 3434, 4577, 1351, 3023, 2085, 2269, 3145, 2154, 2230, 2677, 1072, 3044, 2835, 1991, 1764, 1810, 1666, 1423, 829, 1444, 705, 1469, 873, 1459, 1535, 779, 815, 1161, 1044, 742, 1008, 542, 918, 635, 150, 525, 396, 713, 343, 404, 276, 325, 210, 253, 253, 210, 253, 378, 136, 136, 120, 78, 78, 55, 55, 55, 36, 21]\n",
      "0.336954377592 sec/doc\n",
      "6 ----------------------------------------\n",
      "[(341, 23), (253, 23), (264, 23), (222, 23), (169, 23), (153, 23), (129, 23), (121, 23), (155, 23), (165, 23), (93, 23), (133, 23), (75, 23), (94, 23), (79, 23), (56, 23), (58, 23), (61, 23), (38, 23), (42, 23), (33, 23), (37, 23), (34, 23), (29, 23), (34, 23), (34, 23), (28, 23), (31, 23), (37, 23), (29, 23), (29, 23), (22, 23), (15, 23), (17, 23), (23, 23), (20, 23), (19, 23), (12, 23), (5, 23), (8, 23), (8, 23), (9, 23), (9, 23), (8, 23)]\n",
      "[(5910, 71), (4171, 71), (5318, 71), (4379, 71), (3095, 71), (3147, 71), (2825, 71), (2572, 71), (4206, 71), (4678, 71), (1591, 71), (3572, 71), (1310, 71), (1998, 71), (1517, 71), (950, 71), (1119, 71), (1335, 71), (516, 71), (727, 71), (473, 71), (579, 71), (508, 71), (368, 71), (526, 71), (506, 71), (343, 71), (447, 71), (635, 71), (405, 71), (406, 71), (231, 71), (105, 71), (136, 71), (253, 71), (190, 71), (171, 71), (66, 71), (10, 71), (28, 71), (28, 71), (36, 71), (36, 71), (28, 71)]\n",
      "[5910, 4171, 5318, 4379, 3095, 3147, 2825, 2572, 4206, 4678, 1591, 3572, 1310, 1998, 1517, 950, 1119, 1335, 516, 727, 473, 579, 508, 368, 526, 506, 343, 447, 635, 405, 406, 231, 105, 136, 253, 190, 171, 66, 10, 28, 28, 36, 36, 28]\n"
     ]
    }
   ],
   "source": [
    "best_valid_loss = 1e50\n",
    "n_valid_up = 0\n",
    "epoch_losses = [[]]\n",
    "valid_losses = []\n",
    "forward_times = [[]]\n",
    "backward_times = [[]]\n",
    "seq_lengths = [[]]\n",
    "fit_start = time.time()\n",
    "batch_size=64\n",
    "npr.seed(0)\n",
    "train_iter = SequenceIterator(zip(ix_train, ib_train, im_train, ir_train), batch_size, repeat=False)\n",
    "print train_iter.n_batches\n",
    "for i, batch in enumerate(train_iter):\n",
    "#     if i >= 50:\n",
    "#         break\n",
    "    # prepare data and model\n",
    "    x_list, b_list, m_list, r_list = zip(*batch)\n",
    "    x_list = sequences2arrays(x_list)\n",
    "    b_list = sequences2arrays(b_list)\n",
    "#     m_list = sequences2arrays(m_list)\n",
    "#     r_list = sequences2arrays(r_list)\n",
    "    extractor.reset_state()\n",
    "\n",
    "    # run model\n",
    "    start = time.time()\n",
    "    mention_logits, rel_logits, rel_idxs, dists = extractor(x_list)\n",
    "    t = float(time.time()-start)/batch_size\n",
    "#     full_times.append(t)\n",
    "#     full_dists.extend([abs(r[1]-r[0]) for rels in rel_idxs for r in rels])\n",
    "    cut_times.append(t)\n",
    "    cut_dists.extend(dists)\n",
    "    print t, 'sec/doc'\n",
    "    print i, '----------------------------------------'\n",
    "    print [m.shape for m in mention_logits]\n",
    "    print [r.shape for r in rel_logits]\n",
    "    print [len(r) for r in rel_idxs]"
   ]
  },
  {
   "cell_type": "code",
   "execution_count": 125,
   "metadata": {
    "collapsed": false
   },
   "outputs": [],
   "source": [
    "import matplotlib.pyplot as plt\n",
    "%matplotlib inline\n",
    "import seaborn as sb\n",
    "sb.set_color_codes()"
   ]
  },
  {
   "cell_type": "code",
   "execution_count": 127,
   "metadata": {
    "collapsed": true
   },
   "outputs": [],
   "source": [
    "fd = [ d for dists in full_dists for d in dists ]\n",
    "fn = [ len(dists) for dists in full_dists]\n",
    "\n",
    "cd = [ d for dists in cut_dists for d in dists ]\n",
    "cn = [ len(dists) for dists in cut_dists]"
   ]
  },
  {
   "cell_type": "code",
   "execution_count": 137,
   "metadata": {
    "collapsed": false
   },
   "outputs": [
    {
     "name": "stdout",
     "output_type": "stream",
     "text": [
      "\n"
     ]
    },
    {
     "data": {
      "image/png": "[encoded data removed]",
      "text/plain": [
       "<matplotlib.figure.Figure at 0x11587dbd0>"
      ]
     },
     "metadata": {},
     "output_type": "display_data"
    }
   ],
   "source": [
    "plt.hist(fn, label='full')\n",
    "plt.hist(cn, label='max dist 200')\n",
    "plt.legend()\n",
    "plt.title('Number of candidate relations per doc')\n",
    "print "
   ]
  },
  {
   "cell_type": "code",
   "execution_count": 139,
   "metadata": {
    "collapsed": false
   },
   "outputs": [
    {
     "name": "stdout",
     "output_type": "stream",
     "text": [
      "\n"
     ]
    },
    {
     "data": {
      "image/png": "[encoded data removed]",
      "text/plain": [
       "<matplotlib.figure.Figure at 0x1245cba50>"
      ]
     },
     "metadata": {},
     "output_type": "display_data"
    }
   ],
   "source": [
    "plt.plot(full_times, label='full')\n",
    "plt.plot(cut_times, label='cut')\n",
    "plt.legend()\n",
    "plt.title('Avg sec/doc for extractor w/ batch_size =64')\n",
    "plt.xlabel('batch idx')\n",
    "plt.ylabel('secs/doc (averaged over 64 docs)')\n",
    "print"
   ]
  },
  {
   "cell_type": "code",
   "execution_count": 91,
   "metadata": {
    "collapsed": false
   },
   "outputs": [
    {
     "name": "stdout",
     "output_type": "stream",
     "text": [
      "\n"
     ]
    },
    {
     "data": {
      "image/png": "[encoded data removed]",
      "text/plain": [
       "<matplotlib.figure.Figure at 0x1188ce990>"
      ]
     },
     "metadata": {},
     "output_type": "display_data"
    }
   ],
   "source": [
    "plt.hist(cut_times, label='cut', bins=50)\n",
    "plt.legend()\n",
    "print "
   ]
  },
  {
   "cell_type": "code",
   "execution_count": 81,
   "metadata": {
    "collapsed": false
   },
   "outputs": [
    {
     "data": {
      "text/plain": [
       "(array([ 0.,  0.,  0.,  0.,  0.,  3.,  0.,  0.,  0.,  0.]),\n",
       " array([ 0.5,  0.6,  0.7,  0.8,  0.9,  1. ,  1.1,  1.2,  1.3,  1.4,  1.5]),\n",
       " <a list of 10 Patch objects>)"
      ]
     },
     "execution_count": 81,
     "metadata": {},
     "output_type": "execute_result"
    },
    {
     "data": {
      "image/png": "[encoded data removed]",
      "text/plain": [
       "<matplotlib.figure.Figure at 0x119084290>"
      ]
     },
     "metadata": {},
     "output_type": "display_data"
    }
   ],
   "source": [
    "plt.hist([1,1,1])"
   ]
  },
  {
   "cell_type": "code",
   "execution_count": 92,
   "metadata": {
    "collapsed": false
   },
   "outputs": [
    {
     "data": {
      "text/plain": [
       "4"
      ]
     },
     "execution_count": 92,
     "metadata": {},
     "output_type": "execute_result"
    }
   ],
   "source": [
    "np.array([[1,0],[1,1]]).size"
   ]
  },
  {
   "cell_type": "code",
   "execution_count": 203,
   "metadata": {
    "collapsed": false
   },
   "outputs": [
    {
     "name": "stdout",
     "output_type": "stream",
     "text": [
      "[[ 0.   0. ]\n",
      " [ 0.   1. ]\n",
      " [ 0.2  0.3]]\n"
     ]
    }
   ],
   "source": [
    "a = ch.Variable(np.array([[1.0, 0.], [0., 1.], [2., 3.]]))\n",
    "b = np.array([0., 1., .1]).reshape((-1,1))\n",
    "a *= b\n",
    "print a.data"
   ]
  },
  {
   "cell_type": "code",
   "execution_count": null,
   "metadata": {
    "collapsed": true
   },
   "outputs": [],
   "source": []
  }
 ],
 "metadata": {
  "kernelspec": {
   "display_name": "Python 2",
   "language": "python",
   "name": "python2"
  },
  "language_info": {
   "codemirror_mode": {
    "name": "ipython",
    "version": 2
   },
   "file_extension": ".py",
   "mimetype": "text/x-python",
   "name": "python",
   "nbconvert_exporter": "python",
   "pygments_lexer": "ipython2",
   "version": "2.7.10"
  }
 },
 "nbformat": 4,
 "nbformat_minor": 1
}
